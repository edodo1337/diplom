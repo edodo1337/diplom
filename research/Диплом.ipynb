{
 "cells": [
  {
   "cell_type": "markdown",
   "metadata": {},
   "source": [
    "<h1>Считывание данных</h1>"
   ]
  },
  {
   "cell_type": "code",
   "execution_count": 1,
   "metadata": {},
   "outputs": [
    {
     "data": {
      "text/html": [
       "<div>\n",
       "<style scoped>\n",
       "    .dataframe tbody tr th:only-of-type {\n",
       "        vertical-align: middle;\n",
       "    }\n",
       "\n",
       "    .dataframe tbody tr th {\n",
       "        vertical-align: top;\n",
       "    }\n",
       "\n",
       "    .dataframe thead th {\n",
       "        text-align: right;\n",
       "    }\n",
       "</style>\n",
       "<table border=\"1\" class=\"dataframe\">\n",
       "  <thead>\n",
       "    <tr style=\"text-align: right;\">\n",
       "      <th></th>\n",
       "      <th>Время</th>\n",
       "      <th>10LAB11CP002_XQ01</th>\n",
       "      <th>10LAB12CP002_XQ01</th>\n",
       "      <th>10LAB13CP002_XQ01</th>\n",
       "      <th>10LAB14CP002_XQ01</th>\n",
       "      <th>10LAB15CP002_XQ01</th>\n",
       "      <th>10LAB11CP003_XQ01</th>\n",
       "      <th>10LAB12CP003_XQ01</th>\n",
       "      <th>10LAB13CP003_XQ01</th>\n",
       "      <th>10LAB14CP003_XQ01</th>\n",
       "      <th>10LAB15CP003_XQ01</th>\n",
       "      <th>10LAB11CF001_XQ01</th>\n",
       "      <th>10LAB12CF001_XQ01</th>\n",
       "      <th>10LAB13CF001_XQ01</th>\n",
       "      <th>10LAB14CF001_XQ01</th>\n",
       "      <th>10LAB15CF001_XQ01</th>\n",
       "      <th>10LAB00FT902_XQ01</th>\n",
       "      <th>10LAC11CE021_XQ01</th>\n",
       "      <th>10LAC12CE021_XQ01</th>\n",
       "      <th>10LAC13CE021_XQ01</th>\n",
       "      <th>10LAC14CE021_XQ01</th>\n",
       "      <th>10LAC15CE021_XQ01</th>\n",
       "      <th>10LAC11CS001A_XQ01</th>\n",
       "      <th>10LAC12CS001A_XQ01</th>\n",
       "      <th>10LAC13CS001A_XQ01</th>\n",
       "      <th>10LAC14CS001A_XQ01</th>\n",
       "      <th>10LAC15CS001A_XQ01</th>\n",
       "      <th>10BBA00CE010_XQ01</th>\n",
       "      <th>10BBB00CE010_XQ01</th>\n",
       "      <th>10BBC00CE010_XQ01</th>\n",
       "      <th>10BBD00CE010_XQ01</th>\n",
       "      <th>10MKA10CE912_XQ01</th>\n",
       "      <th>10JKS00FU901_XQ01</th>\n",
       "    </tr>\n",
       "  </thead>\n",
       "  <tbody>\n",
       "    <tr>\n",
       "      <th>0</th>\n",
       "      <td>NaN</td>\n",
       "      <td>Дост--Описание</td>\n",
       "      <td>Дост--Описание</td>\n",
       "      <td>Дост--Описание</td>\n",
       "      <td>Дост--Описание</td>\n",
       "      <td>Дост--Описание</td>\n",
       "      <td>Дост--Описание</td>\n",
       "      <td>Дост--Описание</td>\n",
       "      <td>Дост--Описание</td>\n",
       "      <td>Дост--Описание</td>\n",
       "      <td>Дост--Описание</td>\n",
       "      <td>Дост--Описание</td>\n",
       "      <td>Дост--Описание</td>\n",
       "      <td>Дост--Описание</td>\n",
       "      <td>Дост--Описание</td>\n",
       "      <td>Дост--Описание</td>\n",
       "      <td>Дост--Описание</td>\n",
       "      <td>Дост--Описание</td>\n",
       "      <td>Дост--Описание</td>\n",
       "      <td>Дост--Описание</td>\n",
       "      <td>Дост--Описание</td>\n",
       "      <td>Дост--Описание</td>\n",
       "      <td>Дост--Описание</td>\n",
       "      <td>Дост--Описание</td>\n",
       "      <td>Дост--Описание</td>\n",
       "      <td>Дост--Описание</td>\n",
       "      <td>Дост--Описание</td>\n",
       "      <td>Дост--Описание</td>\n",
       "      <td>Дост--Описание</td>\n",
       "      <td>Дост--Описание</td>\n",
       "      <td>Дост--Описание</td>\n",
       "      <td>Дост--Описание</td>\n",
       "      <td>Дост--Описание</td>\n",
       "    </tr>\n",
       "    <tr>\n",
       "      <th>1</th>\n",
       "      <td>NaN</td>\n",
       "      <td>дост Р ПИТВ ВСАС ПИТ НАС 0-1.6 МПА</td>\n",
       "      <td>дост Р ПИТВ ВСАС ПИТ НАС 0-1.6 МПА</td>\n",
       "      <td>дост Р ПИТВ ВСАС ПИТ НАС 0-1.6 МПА</td>\n",
       "      <td>дост Р ПИТВ ВСАС ПИТ НАС 0-1.6 МПА</td>\n",
       "      <td>дост Р ПИТВ ВСАС ПИТ НАС 0-1.6 МПА</td>\n",
       "      <td>дост Р ПИТВ НАП ПИТ НАС 0-16 МПА</td>\n",
       "      <td>дост Р ПИТВ НАП ПИТ НАС 0-16 МПА</td>\n",
       "      <td>дост Р ПИТВ НАП ПИТ НАС 0-16 МПА</td>\n",
       "      <td>дост Р ПИТВ НАП ПИТ НАС 0-16 МПА</td>\n",
       "      <td>дост Р ПИТВ НАП ПИТ НАС 0-16 МПА</td>\n",
       "      <td>дост F ПИТ В НАП ПИТ НАС 0-500 КГ/С</td>\n",
       "      <td>дост F ПИТ В НАП ПИТ НАС 0-500 КГ/С</td>\n",
       "      <td>дост F ПИТ В НАП ПИТ НАС 0-500 КГ/С</td>\n",
       "      <td>дост F ПИТ В НАП ПИТ НАС 0-500 КГ/С</td>\n",
       "      <td>дост F ПИТ В НАП ПИТ НАС 0-500 КГ/С</td>\n",
       "      <td>дост ВЧСЛ СИГН Т ПИТВ Д 0-200 ГРАД</td>\n",
       "      <td>дост ТОК 10LAC11AP001 0-600 А</td>\n",
       "      <td>дост ТОК 10LAC12AP001 0-600 А</td>\n",
       "      <td>дост ТОК 10LAC13AP001 0-600 А</td>\n",
       "      <td>дост ТОК 10LAC14AP001 0-600 А</td>\n",
       "      <td>дост ТОК 10LAC15AP001 0-600 А</td>\n",
       "      <td>дост Частота вращения ротора электродвигателя</td>\n",
       "      <td>дост Частота вращения ротора электродвигателя</td>\n",
       "      <td>дост Частота вращения ротора электродвигателя</td>\n",
       "      <td>дост Частота вращения ротора электродвигателя</td>\n",
       "      <td>дост Частота вращения ротора электродвигателя</td>\n",
       "      <td>дост U НА СЕКЦ BBA 0-13 КВ</td>\n",
       "      <td>дост U НА СЕКЦ BBB 0-13 КВ</td>\n",
       "      <td>дост U НА СЕКЦ BBC 0-13 КВ</td>\n",
       "      <td>дост U НА СЕКЦ BBD 0-13 КВ</td>\n",
       "      <td>дост -100-1500 MBT</td>\n",
       "      <td>дост Среднее значение мощности реактора</td>\n",
       "    </tr>\n",
       "    <tr>\n",
       "      <th>2</th>\n",
       "      <td>NaN</td>\n",
       "      <td>МПа</td>\n",
       "      <td>МПа</td>\n",
       "      <td>МПа</td>\n",
       "      <td>МПа</td>\n",
       "      <td>МПа</td>\n",
       "      <td>МПа</td>\n",
       "      <td>МПа</td>\n",
       "      <td>МПа</td>\n",
       "      <td>МПа</td>\n",
       "      <td>МПа</td>\n",
       "      <td>кг/с</td>\n",
       "      <td>кг/с</td>\n",
       "      <td>кг/с</td>\n",
       "      <td>кг/с</td>\n",
       "      <td>кг/с</td>\n",
       "      <td>°C</td>\n",
       "      <td>A</td>\n",
       "      <td>A</td>\n",
       "      <td>A</td>\n",
       "      <td>A</td>\n",
       "      <td>A</td>\n",
       "      <td>об/мин</td>\n",
       "      <td>об/мин</td>\n",
       "      <td>об/мин</td>\n",
       "      <td>об/мин</td>\n",
       "      <td>об/мин</td>\n",
       "      <td>кВ</td>\n",
       "      <td>кВ</td>\n",
       "      <td>кВ</td>\n",
       "      <td>кВ</td>\n",
       "      <td>МВт</td>\n",
       "      <td>МВт</td>\n",
       "    </tr>\n",
       "    <tr>\n",
       "      <th>3</th>\n",
       "      <td>01.01.19 00:00:00</td>\n",
       "      <td>0.80</td>\n",
       "      <td>0.76</td>\n",
       "      <td>0.75</td>\n",
       "      <td>0.80</td>\n",
       "      <td>0.77</td>\n",
       "      <td>0.7</td>\n",
       "      <td>9.4</td>\n",
       "      <td>9.5</td>\n",
       "      <td>0.8</td>\n",
       "      <td>9.5</td>\n",
       "      <td>-1</td>\n",
       "      <td>293</td>\n",
       "      <td>383</td>\n",
       "      <td>1</td>\n",
       "      <td>343</td>\n",
       "      <td>167</td>\n",
       "      <td>0</td>\n",
       "      <td>282</td>\n",
       "      <td>290</td>\n",
       "      <td>1</td>\n",
       "      <td>280</td>\n",
       "      <td>0</td>\n",
       "      <td>2995</td>\n",
       "      <td>2994</td>\n",
       "      <td>0</td>\n",
       "      <td>2995</td>\n",
       "      <td>10.5</td>\n",
       "      <td>10.2</td>\n",
       "      <td>10.5</td>\n",
       "      <td>10.4</td>\n",
       "      <td>576</td>\n",
       "      <td>1803</td>\n",
       "    </tr>\n",
       "    <tr>\n",
       "      <th>4</th>\n",
       "      <td>01.01.19 01:00:00</td>\n",
       "      <td>0.80</td>\n",
       "      <td>0.76</td>\n",
       "      <td>0.75</td>\n",
       "      <td>0.80</td>\n",
       "      <td>0.77</td>\n",
       "      <td>0.7</td>\n",
       "      <td>9.4</td>\n",
       "      <td>9.5</td>\n",
       "      <td>0.8</td>\n",
       "      <td>9.5</td>\n",
       "      <td>-1</td>\n",
       "      <td>294</td>\n",
       "      <td>383</td>\n",
       "      <td>1</td>\n",
       "      <td>342</td>\n",
       "      <td>167</td>\n",
       "      <td>0</td>\n",
       "      <td>278</td>\n",
       "      <td>290</td>\n",
       "      <td>1</td>\n",
       "      <td>277</td>\n",
       "      <td>0</td>\n",
       "      <td>2995</td>\n",
       "      <td>2996</td>\n",
       "      <td>0</td>\n",
       "      <td>2995</td>\n",
       "      <td>10.5</td>\n",
       "      <td>10.2</td>\n",
       "      <td>10.5</td>\n",
       "      <td>10.4</td>\n",
       "      <td>575</td>\n",
       "      <td>1795</td>\n",
       "    </tr>\n",
       "  </tbody>\n",
       "</table>\n",
       "</div>"
      ],
      "text/plain": [
       "               Время                   10LAB11CP002_XQ01  \\\n",
       "0                NaN                      Дост--Описание   \n",
       "1                NaN  дост Р ПИТВ ВСАС ПИТ НАС 0-1.6 МПА   \n",
       "2                NaN                                 МПа   \n",
       "3  01.01.19 00:00:00                                0.80   \n",
       "4  01.01.19 01:00:00                                0.80   \n",
       "\n",
       "                    10LAB12CP002_XQ01                   10LAB13CP002_XQ01  \\\n",
       "0                      Дост--Описание                      Дост--Описание   \n",
       "1  дост Р ПИТВ ВСАС ПИТ НАС 0-1.6 МПА  дост Р ПИТВ ВСАС ПИТ НАС 0-1.6 МПА   \n",
       "2                                 МПа                                 МПа   \n",
       "3                                0.76                                0.75   \n",
       "4                                0.76                                0.75   \n",
       "\n",
       "                    10LAB14CP002_XQ01                   10LAB15CP002_XQ01  \\\n",
       "0                      Дост--Описание                      Дост--Описание   \n",
       "1  дост Р ПИТВ ВСАС ПИТ НАС 0-1.6 МПА  дост Р ПИТВ ВСАС ПИТ НАС 0-1.6 МПА   \n",
       "2                                 МПа                                 МПа   \n",
       "3                                0.80                                0.77   \n",
       "4                                0.80                                0.77   \n",
       "\n",
       "                  10LAB11CP003_XQ01                 10LAB12CP003_XQ01  \\\n",
       "0                    Дост--Описание                    Дост--Описание   \n",
       "1  дост Р ПИТВ НАП ПИТ НАС 0-16 МПА  дост Р ПИТВ НАП ПИТ НАС 0-16 МПА   \n",
       "2                               МПа                               МПа   \n",
       "3                               0.7                               9.4   \n",
       "4                               0.7                               9.4   \n",
       "\n",
       "                  10LAB13CP003_XQ01                 10LAB14CP003_XQ01  \\\n",
       "0                    Дост--Описание                    Дост--Описание   \n",
       "1  дост Р ПИТВ НАП ПИТ НАС 0-16 МПА  дост Р ПИТВ НАП ПИТ НАС 0-16 МПА   \n",
       "2                               МПа                               МПа   \n",
       "3                               9.5                               0.8   \n",
       "4                               9.5                               0.8   \n",
       "\n",
       "                  10LAB15CP003_XQ01                    10LAB11CF001_XQ01  \\\n",
       "0                    Дост--Описание                       Дост--Описание   \n",
       "1  дост Р ПИТВ НАП ПИТ НАС 0-16 МПА  дост F ПИТ В НАП ПИТ НАС 0-500 КГ/С   \n",
       "2                               МПа                                 кг/с   \n",
       "3                               9.5                                   -1   \n",
       "4                               9.5                                   -1   \n",
       "\n",
       "                     10LAB12CF001_XQ01                    10LAB13CF001_XQ01  \\\n",
       "0                       Дост--Описание                       Дост--Описание   \n",
       "1  дост F ПИТ В НАП ПИТ НАС 0-500 КГ/С  дост F ПИТ В НАП ПИТ НАС 0-500 КГ/С   \n",
       "2                                 кг/с                                 кг/с   \n",
       "3                                  293                                  383   \n",
       "4                                  294                                  383   \n",
       "\n",
       "                     10LAB14CF001_XQ01                    10LAB15CF001_XQ01  \\\n",
       "0                       Дост--Описание                       Дост--Описание   \n",
       "1  дост F ПИТ В НАП ПИТ НАС 0-500 КГ/С  дост F ПИТ В НАП ПИТ НАС 0-500 КГ/С   \n",
       "2                                 кг/с                                 кг/с   \n",
       "3                                    1                                  343   \n",
       "4                                    1                                  342   \n",
       "\n",
       "                    10LAB00FT902_XQ01              10LAC11CE021_XQ01  \\\n",
       "0                      Дост--Описание                 Дост--Описание   \n",
       "1  дост ВЧСЛ СИГН Т ПИТВ Д 0-200 ГРАД  дост ТОК 10LAC11AP001 0-600 А   \n",
       "2                                  °C                              A   \n",
       "3                                 167                              0   \n",
       "4                                 167                              0   \n",
       "\n",
       "               10LAC12CE021_XQ01              10LAC13CE021_XQ01  \\\n",
       "0                 Дост--Описание                 Дост--Описание   \n",
       "1  дост ТОК 10LAC12AP001 0-600 А  дост ТОК 10LAC13AP001 0-600 А   \n",
       "2                              A                              A   \n",
       "3                            282                            290   \n",
       "4                            278                            290   \n",
       "\n",
       "               10LAC14CE021_XQ01              10LAC15CE021_XQ01  \\\n",
       "0                 Дост--Описание                 Дост--Описание   \n",
       "1  дост ТОК 10LAC14AP001 0-600 А  дост ТОК 10LAC15AP001 0-600 А   \n",
       "2                              A                              A   \n",
       "3                              1                            280   \n",
       "4                              1                            277   \n",
       "\n",
       "                              10LAC11CS001A_XQ01  \\\n",
       "0                                 Дост--Описание   \n",
       "1  дост Частота вращения ротора электродвигателя   \n",
       "2                                         об/мин   \n",
       "3                                              0   \n",
       "4                                              0   \n",
       "\n",
       "                              10LAC12CS001A_XQ01  \\\n",
       "0                                 Дост--Описание   \n",
       "1  дост Частота вращения ротора электродвигателя   \n",
       "2                                         об/мин   \n",
       "3                                           2995   \n",
       "4                                           2995   \n",
       "\n",
       "                              10LAC13CS001A_XQ01  \\\n",
       "0                                 Дост--Описание   \n",
       "1  дост Частота вращения ротора электродвигателя   \n",
       "2                                         об/мин   \n",
       "3                                           2994   \n",
       "4                                           2996   \n",
       "\n",
       "                              10LAC14CS001A_XQ01  \\\n",
       "0                                 Дост--Описание   \n",
       "1  дост Частота вращения ротора электродвигателя   \n",
       "2                                         об/мин   \n",
       "3                                              0   \n",
       "4                                              0   \n",
       "\n",
       "                              10LAC15CS001A_XQ01           10BBA00CE010_XQ01  \\\n",
       "0                                 Дост--Описание              Дост--Описание   \n",
       "1  дост Частота вращения ротора электродвигателя  дост U НА СЕКЦ BBA 0-13 КВ   \n",
       "2                                         об/мин                          кВ   \n",
       "3                                           2995                        10.5   \n",
       "4                                           2995                        10.5   \n",
       "\n",
       "            10BBB00CE010_XQ01           10BBC00CE010_XQ01  \\\n",
       "0              Дост--Описание              Дост--Описание   \n",
       "1  дост U НА СЕКЦ BBB 0-13 КВ  дост U НА СЕКЦ BBC 0-13 КВ   \n",
       "2                          кВ                          кВ   \n",
       "3                        10.2                        10.5   \n",
       "4                        10.2                        10.5   \n",
       "\n",
       "            10BBD00CE010_XQ01   10MKA10CE912_XQ01  \\\n",
       "0              Дост--Описание      Дост--Описание   \n",
       "1  дост U НА СЕКЦ BBD 0-13 КВ  дост -100-1500 MBT   \n",
       "2                          кВ                 МВт   \n",
       "3                        10.4                 576   \n",
       "4                        10.4                 575   \n",
       "\n",
       "                         10JKS00FU901_XQ01  \n",
       "0                           Дост--Описание  \n",
       "1  дост Среднее значение мощности реактора  \n",
       "2                                      МВт  \n",
       "3                                     1803  \n",
       "4                                     1795  "
      ]
     },
     "execution_count": 1,
     "metadata": {},
     "output_type": "execute_result"
    }
   ],
   "source": [
    "%matplotlib widget\n",
    "\n",
    "import pandas as pd\n",
    "import numpy as np\n",
    "import matplotlib.pyplot as plt\n",
    "\n",
    "file = \"aes_data.xlsx\"\n",
    "\n",
    "data = pd.read_excel(file)\n",
    "\n",
    "df = data.drop([0,1,2], axis=0)\n",
    "cols_fillna = df.columns.values\n",
    "for col in cols_fillna[1:]:\n",
    "    df[col] = pd.to_numeric(df[col], errors='coerce').fillna(0)\n",
    "\n",
    "    \n",
    "pump_in_cols = df.columns.values[1:6]\n",
    "pump_out_cols = df.columns.values[6:11]\n",
    "pump_mass_cols = df.columns.values[11:16]\n",
    "pump_temp_col = df.columns.values[16]\n",
    "pump_amper_cols = df.columns.values[17:22]\n",
    "pump_revs_cols = df.columns.values[22:27]\n",
    "pump_volt_cols = df.columns.values[27:31]\n",
    "pump_turbine_col = df.columns.values[31]\n",
    "pump_reactor_col = df.columns.values[32]\n",
    "\n",
    "\n",
    "# df[cols_fillna[-1]][df[cols_fillna[-1]].isnull()]\n",
    "pd.set_option('display.max_columns', None)\n",
    "pd.set_option('display.max_rows', None)\n",
    "data.head()\n"
   ]
  },
  {
   "cell_type": "markdown",
   "metadata": {},
   "source": [
    "<h1>Первичная фильтрация данных</h1>\n",
    "<p>убираем отрицательные или слишком большие значения</p>\n",
    "<p>+ графики массовой подачи для всех насосов</p>\n"
   ]
  },
  {
   "cell_type": "code",
   "execution_count": 2,
   "metadata": {},
   "outputs": [
    {
     "data": {
      "application/vnd.jupyter.widget-view+json": {
       "model_id": "f593add76a4345d78bfe23838ba0ea58",
       "version_major": 2,
       "version_minor": 0
      },
      "text/plain": [
       "Canvas(toolbar=Toolbar(toolitems=[('Home', 'Reset original view', 'home', 'home'), ('Back', 'Back to previous …"
      ]
     },
     "metadata": {},
     "output_type": "display_data"
    }
   ],
   "source": [
    "df[pump_in_cols[2]] = df[pump_in_cols[2]].apply(lambda x: x if x<=8 else x-x//1)   \n",
    "\n",
    "\n",
    "for col in df.columns.values[1:]:\n",
    "    df[col] = df[col].apply(lambda x: 0 if x<0 else x)\n",
    "\n",
    "for col in pump_mass_cols:\n",
    "    df[col] = df[col].apply(lambda x: x if x<510 else 0)    \n",
    "    \n",
    "plt.rcParams[\"figure.figsize\"] = (8,5)\n",
    "\n",
    "df.plot(use_index=True, y=pump_mass_cols, title='Показания ПЭНов')\n",
    "plt.title('Показания ПЭНов')\n",
    "plt.ylabel('Массовая подача, кг/с', fontsize=15)\n",
    "plt.legend(loc='lower right')\n",
    "plt.show()\n",
    "# ax.show()\n"
   ]
  },
  {
   "cell_type": "markdown",
   "metadata": {},
   "source": [
    "<h1>Расчеты КПД</h1>"
   ]
  },
  {
   "cell_type": "code",
   "execution_count": 3,
   "metadata": {},
   "outputs": [],
   "source": [
    "from iapws import IAPWS97, IAPWS95\n",
    "\n",
    "def eff_func(row, pump_num):\n",
    "    p1 = df[f'10LAB{pump_num}CP002_XQ01'][row]\n",
    "    p2 = df[f'10LAB{pump_num}CP003_XQ01'][row]\n",
    "    G = df[f'10LAB{pump_num}CF001_XQ01'][row]\n",
    "    t = df[\"10LAB00FT902_XQ01\"][row]\n",
    "    I = df[f\"10LAC{pump_num}CE021_XQ01\"][row]\n",
    "    U = df[\"10BBA00CE010_XQ01\"][row]\n",
    "    \n",
    "    if all([(p2-p1)*G,U*I, t, p2, p1]):\n",
    "        try:\n",
    "            rho = IAPWS97(P=(p1+p2)/2, T=t+273).rho\n",
    "        except:\n",
    "            print(p1,p2,G,t, pump_num)\n",
    "            raise Exception('here')\n",
    "        ef = (p2-p1)*1000*G/(U*I*rho)/np.sqrt(3)\n",
    "        ef = 0 if ef < 0 or ef >= 1 else ef\n",
    "        \n",
    "        return ef / np.sqrt(3)\n",
    "        \n",
    "    else:\n",
    "        return 0\n",
    "\n",
    "\n",
    "pump_1_eff = df.apply(lambda x: eff_func(x.name, 11), axis=1)\n",
    "pump_2_eff = df.apply(lambda x: eff_func(x.name, 12), axis=1)\n",
    "pump_3_eff = df.apply(lambda x: eff_func(x.name, 13), axis=1)\n",
    "pump_4_eff = df.apply(lambda x: eff_func(x.name, 14), axis=1)\n",
    "pump_5_eff = df.apply(lambda x: eff_func(x.name, 15), axis=1)\n",
    "\n",
    "pump_eff_data = {\n",
    "    'pump_1_eff':pump_1_eff,\n",
    "    'pump_2_eff':pump_2_eff,\n",
    "    'pump_3_eff':pump_3_eff,\n",
    "    'pump_4_eff':pump_4_eff,\n",
    "    'pump_5_eff':pump_5_eff,\n",
    "}\n",
    "\n"
   ]
  },
  {
   "cell_type": "code",
   "execution_count": 4,
   "metadata": {},
   "outputs": [
    {
     "data": {
      "application/vnd.jupyter.widget-view+json": {
       "model_id": "cba945b50e9f4eccb526ecf5e014410d",
       "version_major": 2,
       "version_minor": 0
      },
      "text/plain": [
       "Canvas(toolbar=Toolbar(toolitems=[('Home', 'Reset original view', 'home', 'home'), ('Back', 'Back to previous …"
      ]
     },
     "metadata": {},
     "output_type": "display_data"
    },
    {
     "data": {
      "text/plain": [
       "Text(0, 0.5, 'КПД насоса')"
      ]
     },
     "execution_count": 4,
     "metadata": {},
     "output_type": "execute_result"
    }
   ],
   "source": [
    "fig1 = plt.figure(figsize=(8, 5))\n",
    "ax1 = fig1.add_subplot(111)\n",
    "\n",
    "plot = pump_eff_data['pump_1_eff'].plot(title=\"Показания ПЭН-I\", axes=ax1)\n",
    "plt.ylabel(\"КПД насоса\", fontsize=12)"
   ]
  },
  {
   "cell_type": "markdown",
   "metadata": {},
   "source": [
    "<h1>Разделение на сегменты</h1>"
   ]
  },
  {
   "cell_type": "code",
   "execution_count": 5,
   "metadata": {},
   "outputs": [],
   "source": [
    "def divide_to_segments_by_eff(column, limiter):\n",
    "    segm_start = None\n",
    "    segm_end = None\n",
    "\n",
    "    segments = []\n",
    "\n",
    "    for ind,item in pump_eff_data[column].iteritems():\n",
    "        if item>limiter:\n",
    "            if segm_start is None:\n",
    "                segm_start = ind\n",
    "        else:\n",
    "            if segm_start is not None and ind != segm_start:\n",
    "                segm_end = ind\n",
    "\n",
    "        if segm_start is not None and segm_end is not None:\n",
    "            segments.append((segm_start-2,segm_end-3))\n",
    "            segm_start, segm_end = None, None\n",
    "    \n",
    "    return segments\n",
    "\n",
    "def divide_to_segments(column, limiter):\n",
    "    segm_start = None\n",
    "    segm_end = None\n",
    "\n",
    "    segments = []\n",
    "\n",
    "    for ind,item in df[column].iteritems():\n",
    "        if item>limiter:\n",
    "            if segm_start is None:\n",
    "                segm_start = ind\n",
    "        else:\n",
    "            if segm_start is not None and ind != segm_start:\n",
    "                segm_end = ind\n",
    "\n",
    "        if segm_start is not None and segm_end is not None:\n",
    "            segments.append((segm_start-2,segm_end-3))\n",
    "            segm_start, segm_end = None, None\n",
    "    \n",
    "    return segments\n",
    "        \n",
    "# segments1 = divide_to_segments(pump_mass_cols[0], 350)\n",
    "# segments2 = divide_to_segments(pump_mass_cols[1], 350)\n",
    "# segments3 = divide_to_segments(pump_mass_cols[2], 350)\n",
    "# segments4 = divide_to_segments(pump_mass_cols[3], 350)\n",
    "# segments5 = divide_to_segments(pump_mass_cols[4], 350)\n",
    "\n",
    "segments1 = divide_to_segments_by_eff('pump_1_eff', 0.1)\n",
    "segments2 = divide_to_segments_by_eff('pump_2_eff', 0.1)\n",
    "segments3 = divide_to_segments_by_eff('pump_3_eff', 0.1)\n",
    "segments4 = divide_to_segments_by_eff('pump_4_eff', 0.1)\n",
    "segments5 = divide_to_segments_by_eff('pump_5_eff', 0.1)\n",
    "\n",
    "\n",
    "pump_mass_1_filtred = pd.concat([df[pump_mass_cols[0]][i[0]-2:i[1]-3] for i in segments1],  ignore_index=True)\n",
    "\n",
    "filtred_data = {\n",
    "    'pump_1_in': pd.concat([df[pump_in_cols[0]][i[0]:i[1]] for i in segments1],  ignore_index=True),\n",
    "    'pump_2_in': pd.concat([df[pump_in_cols[1]][i[0]:i[1]] for i in segments2],  ignore_index=True),\n",
    "    'pump_3_in': pd.concat([df[pump_in_cols[2]][i[0]:i[1]] for i in segments3],  ignore_index=True),\n",
    "    'pump_4_in': pd.concat([df[pump_in_cols[3]][i[0]:i[1]] for i in segments4],  ignore_index=True),\n",
    "    'pump_5_in': pd.concat([df[pump_in_cols[4]][i[0]:i[1]] for i in segments5],  ignore_index=True),\n",
    "    \n",
    "    'pump_1_out': pd.concat([df[pump_out_cols[0]][i[0]:i[1]] for i in segments1],  ignore_index=True),\n",
    "    'pump_2_out': pd.concat([df[pump_out_cols[1]][i[0]:i[1]] for i in segments2],  ignore_index=True),\n",
    "    'pump_3_out': pd.concat([df[pump_out_cols[2]][i[0]:i[1]] for i in segments3],  ignore_index=True),\n",
    "    'pump_4_out': pd.concat([df[pump_out_cols[3]][i[0]:i[1]] for i in segments4],  ignore_index=True),\n",
    "    'pump_5_out': pd.concat([df[pump_out_cols[4]][i[0]:i[1]] for i in segments5],  ignore_index=True),\n",
    "    \n",
    "    \n",
    "    'pump_1_mass': pd.concat([df[pump_mass_cols[0]][i[0]:i[1]] for i in segments1],  ignore_index=True),\n",
    "    'pump_2_mass': pd.concat([df[pump_mass_cols[1]][i[0]:i[1]] for i in segments2],  ignore_index=True),\n",
    "    'pump_3_mass': pd.concat([df[pump_mass_cols[2]][i[0]:i[1]] for i in segments3],  ignore_index=True),\n",
    "    'pump_4_mass': pd.concat([df[pump_mass_cols[3]][i[0]:i[1]] for i in segments4],  ignore_index=True),\n",
    "    'pump_5_mass': pd.concat([df[pump_mass_cols[4]][i[0]:i[1]] for i in segments5],  ignore_index=True),\n",
    " \n",
    "    'pump_1_eff': pd.concat([pump_1_eff[i[0]:i[1]] for i in segments1],  ignore_index=True),\n",
    "    'pump_2_eff': pd.concat([pump_2_eff[i[0]:i[1]] for i in segments2],  ignore_index=True),\n",
    "    'pump_3_eff': pd.concat([pump_3_eff[i[0]:i[1]] for i in segments3],  ignore_index=True),\n",
    "    'pump_4_eff': pd.concat([pump_4_eff[i[0]:i[1]] for i in segments4],  ignore_index=True),\n",
    "    'pump_5_eff': pd.concat([pump_5_eff[i[0]:i[1]] for i in segments5],  ignore_index=True),\n",
    "    \n",
    "    'pump_1_temp': pd.concat([df[pump_temp_col][i[0]:i[1]] for i in segments1],  ignore_index=True),\n",
    "    'pump_2_temp': pd.concat([df[pump_temp_col][i[0]:i[1]] for i in segments2],  ignore_index=True),\n",
    "    'pump_3_temp': pd.concat([df[pump_temp_col][i[0]:i[1]] for i in segments3],  ignore_index=True),\n",
    "    'pump_4_temp': pd.concat([df[pump_temp_col][i[0]:i[1]] for i in segments4],  ignore_index=True),\n",
    "    'pump_5_temp': pd.concat([df[pump_temp_col][i[0]:i[1]] for i in segments5],  ignore_index=True),\n",
    "    \n",
    "    \n",
    "    'pump_1_amper': pd.concat([df[pump_amper_cols[0]][i[0]:i[1]] for i in segments1],  ignore_index=True),\n",
    "    'pump_2_amper': pd.concat([df[pump_amper_cols[1]][i[0]:i[1]] for i in segments2],  ignore_index=True),\n",
    "    'pump_3_amper': pd.concat([df[pump_amper_cols[2]][i[0]:i[1]] for i in segments3],  ignore_index=True),\n",
    "    'pump_4_amper': pd.concat([df[pump_amper_cols[3]][i[0]:i[1]] for i in segments4],  ignore_index=True),\n",
    "    'pump_5_amper': pd.concat([df[pump_amper_cols[4]][i[0]:i[1]] for i in segments5],  ignore_index=True),\n",
    "\n",
    "    'pump_1_revs': pd.concat([df[pump_revs_cols[0]][i[0]:i[1]] for i in segments1],  ignore_index=True),\n",
    "    'pump_2_revs': pd.concat([df[pump_revs_cols[1]][i[0]:i[1]] for i in segments2],  ignore_index=True),\n",
    "    'pump_3_revs': pd.concat([df[pump_revs_cols[2]][i[0]:i[1]] for i in segments3],  ignore_index=True),\n",
    "    'pump_4_revs': pd.concat([df[pump_revs_cols[3]][i[0]:i[1]] for i in segments4],  ignore_index=True),\n",
    "    'pump_5_revs': pd.concat([df[pump_revs_cols[4]][i[0]:i[1]] for i in segments5],  ignore_index=True),\n",
    "    \n",
    "#     'pump_1_volt': pd.concat([df[pump_volt_cols[0]][i[0]:i[1]] for i in segments1],  ignore_index=True),\n",
    "#     'pump_2_volt': pd.concat([df[pump_volt_cols[1]][i[0]:i[1]] for i in segments2],  ignore_index=True),\n",
    "#     'pump_3_volt': pd.concat([df[pump_volt_cols[2]][i[0]:i[1]] for i in segments3],  ignore_index=True),\n",
    "#     'pump_4_volt': pd.concat([df[pump_volt_cols[3]][i[0]:i[1]] for i in segments4],  ignore_index=True),\n",
    "#     'pump_5_volt': pd.concat([df[pump_volt_cols[4]][i[0]:i[1]] for i in segments5],  ignore_index=True),\n",
    "}\n",
    "    \n",
    "    \n",
    "filtred_df = pd.DataFrame(filtred_data)\n",
    "\n",
    "# for i in segments1:\n",
    "#     print('--',pump1_eff[i[0]], pump1_eff[i[1]])\n",
    "#     pump1_eff[i[0]:i[1]].plot()\n",
    "\n"
   ]
  },
  {
   "cell_type": "code",
   "execution_count": 6,
   "metadata": {},
   "outputs": [
    {
     "data": {
      "application/vnd.jupyter.widget-view+json": {
       "model_id": "3d2965656a83488e8967df42e1783077",
       "version_major": 2,
       "version_minor": 0
      },
      "text/plain": [
       "Canvas(toolbar=Toolbar(toolitems=[('Home', 'Reset original view', 'home', 'home'), ('Back', 'Back to previous …"
      ]
     },
     "metadata": {},
     "output_type": "display_data"
    },
    {
     "data": {
      "text/plain": [
       "<matplotlib.legend.Legend at 0x7f0c83f17ac8>"
      ]
     },
     "execution_count": 6,
     "metadata": {},
     "output_type": "execute_result"
    }
   ],
   "source": [
    "fig2 = plt.figure(figsize=(8, 5))\n",
    "ax2 = fig2.add_subplot(111)\n",
    "\n",
    "filtred_data['pump_1_mass'].plot(title=\"Показания ПЭН-I\", axes=ax2, label='Данные после фильтрации')\n",
    "\n",
    "plt.ylabel(\"Массовый расход, кг/c\", fontsize=15)\n",
    "\n",
    "rolled = pump_mass_1_filtred.rolling(50).mean()\n",
    "rolled.plot(linewidth=3, axes=ax2, label='Сглаженные данные')\n",
    "\n",
    "ax2.legend(loc='lower right')\n"
   ]
  },
  {
   "cell_type": "markdown",
   "metadata": {},
   "source": [
    "<h1>Сглаживание</h1>"
   ]
  },
  {
   "cell_type": "code",
   "execution_count": 7,
   "metadata": {},
   "outputs": [],
   "source": [
    "def smooth(data, rolling=10, min_periods=1):\n",
    "    f_max = data.max()\n",
    "    f_norm = data/f_max\n",
    "    return f_norm.rolling(rolling, min_periods).mean()\n",
    "\n",
    "smoothed_data = {\n",
    "    'pump_1_in':smooth(filtred_data['pump_1_in']),\n",
    "    'pump_2_in':smooth(filtred_data['pump_2_in']),\n",
    "    'pump_3_in':smooth(filtred_data['pump_3_in']),\n",
    "    'pump_4_in':smooth(filtred_data['pump_4_in']),\n",
    "    'pump_5_in':smooth(filtred_data['pump_5_in']),\n",
    "    \n",
    "    \n",
    "    'pump_1_out':smooth(filtred_data['pump_1_out']),\n",
    "    'pump_2_out':smooth(filtred_data['pump_2_out']),\n",
    "    'pump_3_out':smooth(filtred_data['pump_3_out']),\n",
    "    'pump_4_out':smooth(filtred_data['pump_4_out']),\n",
    "    'pump_5_out':smooth(filtred_data['pump_5_out']),\n",
    "    \n",
    "    \n",
    "    'pump_1_mass':smooth(filtred_data['pump_1_mass']),\n",
    "    'pump_2_mass':smooth(filtred_data['pump_2_mass']),\n",
    "    'pump_3_mass':smooth(filtred_data['pump_3_mass']),\n",
    "    'pump_4_mass':smooth(filtred_data['pump_4_mass']),\n",
    "    'pump_5_mass':smooth(filtred_data['pump_5_mass']),\n",
    "    \n",
    "    'pump_1_eff':smooth(filtred_data['pump_1_eff']),\n",
    "    'pump_2_eff':smooth(filtred_data['pump_2_eff']),\n",
    "    'pump_3_eff':smooth(filtred_data['pump_3_eff']),\n",
    "    'pump_4_eff':smooth(filtred_data['pump_4_eff']),\n",
    "    'pump_5_eff':smooth(filtred_data['pump_5_eff']),\n",
    "    \n",
    "    'pump_1_temp':smooth(filtred_data['pump_1_temp'], rolling=10),\n",
    "    'pump_2_temp':smooth(filtred_data['pump_2_temp'], rolling=10),\n",
    "    'pump_3_temp':smooth(filtred_data['pump_3_temp'], rolling=10),\n",
    "    'pump_4_temp':smooth(filtred_data['pump_4_temp'], rolling=10),\n",
    "    'pump_5_temp':smooth(filtred_data['pump_5_temp'], rolling=10),\n",
    "    \n",
    "    'pump_1_revs':smooth(filtred_data['pump_1_revs']),\n",
    "    'pump_2_revs':smooth(filtred_data['pump_2_revs']),\n",
    "    'pump_3_revs':smooth(filtred_data['pump_3_revs']),\n",
    "    'pump_4_revs':smooth(filtred_data['pump_4_revs']),\n",
    "    'pump_5_revs':smooth(filtred_data['pump_5_revs']),\n",
    "    \n",
    "    'pump_1_amper':smooth(filtred_data['pump_1_amper']),\n",
    "    'pump_2_amper':smooth(filtred_data['pump_2_amper']),\n",
    "    'pump_3_amper':smooth(filtred_data['pump_3_amper']),\n",
    "    'pump_4_amper':smooth(filtred_data['pump_4_amper']),\n",
    "    'pump_5_amper':smooth(filtred_data['pump_5_amper']),\n",
    "}\n",
    "\n"
   ]
  },
  {
   "cell_type": "code",
   "execution_count": 8,
   "metadata": {},
   "outputs": [
    {
     "data": {
      "application/vnd.jupyter.widget-view+json": {
       "model_id": "e030d00c1800479992891ba0ff2f0026",
       "version_major": 2,
       "version_minor": 0
      },
      "text/plain": [
       "Canvas(toolbar=Toolbar(toolitems=[('Home', 'Reset original view', 'home', 'home'), ('Back', 'Back to previous …"
      ]
     },
     "metadata": {},
     "output_type": "display_data"
    },
    {
     "data": {
      "text/plain": [
       "<matplotlib.legend.Legend at 0x7f0c66fdd3c8>"
      ]
     },
     "execution_count": 8,
     "metadata": {},
     "output_type": "execute_result"
    }
   ],
   "source": [
    "\n",
    "fig3 = plt.figure(figsize=(8, 5))\n",
    "ax3 = fig3.add_subplot(111)\n",
    "\n",
    "\n",
    "pump_mass_1_filtred\n",
    "pump_mass_1_max = filtred_data['pump_1_mass'].max()\n",
    "\n",
    "pump_mass_1_norm = filtred_data['pump_1_mass'] / pump_mass_1_max\n",
    "pump_mass_1_norm.plot(title=\"Показания ПЭН-I\", label=\"Нормализованный массовый расход\", axes=ax3)\n",
    "# plt.ylabel(\"Массовый расход\", fontsize=15)\n",
    "\n",
    "rolled_mass_1 = pump_mass_1_norm.rolling(20, min_periods=1).mean()\n",
    "rolled_mass_1.plot(label='Сглаженные данные', linewidth=3, axes=ax3)\n",
    "plt.ylabel(\"Массовый расход, кг/c\", fontsize=12)\n",
    "ax3.legend(loc='lower right')\n",
    "\n",
    "\n",
    "# smoothed_data['pump_5_eff'].plot(axes=ax3, title='Сглаживание данных')\n",
    "# (filtred_data['pump_5_temp']/filtred_data['pump_5_temp'].max()).plot(axes=ax3)\n"
   ]
  },
  {
   "cell_type": "code",
   "execution_count": 9,
   "metadata": {},
   "outputs": [
    {
     "data": {
      "application/vnd.jupyter.widget-view+json": {
       "model_id": "52d4bdc4e22b4ba4852bd683cb11257f",
       "version_major": 2,
       "version_minor": 0
      },
      "text/plain": [
       "Canvas(toolbar=Toolbar(toolitems=[('Home', 'Reset original view', 'home', 'home'), ('Back', 'Back to previous …"
      ]
     },
     "metadata": {},
     "output_type": "display_data"
    },
    {
     "data": {
      "text/plain": [
       "<matplotlib.legend.Legend at 0x7f0c672af550>"
      ]
     },
     "execution_count": 9,
     "metadata": {},
     "output_type": "execute_result"
    }
   ],
   "source": [
    "fig4 = plt.figure(figsize=(8, 5))\n",
    "ax4 = fig4.add_subplot(111)\n",
    "\n",
    "(filtred_data['pump_1_in']/filtred_data['pump_1_in'].max()).plot(title='Показания ПЭН-I', label=\"Нормализованное давление на всасе\",axes=ax4)\n",
    "smoothed_data['pump_1_in'].plot(linewidth=2, label=\"Сглаженные данные\", axes=ax4)\n",
    "plt.ylabel(\"Давление на всасе\", fontsize=12)\n",
    "ax4.legend(loc=\"lower right\")\n"
   ]
  },
  {
   "cell_type": "markdown",
   "metadata": {},
   "source": [
    "<h1>Центрирование</h1>"
   ]
  },
  {
   "cell_type": "code",
   "execution_count": 10,
   "metadata": {},
   "outputs": [
    {
     "name": "stdout",
     "output_type": "stream",
     "text": [
      "---------------\n",
      "0.6538888400805398\n",
      "0.5560835924257299\n",
      "0.5352020039236496\n",
      "0.5041124489947797\n",
      "0.3823648925481814\n",
      "---------------\n",
      "-0.6382530588550859\n",
      "-0.5395059509278061\n",
      "-0.5073684603094456\n",
      "-0.2769953447859412\n",
      "-0.446731672617566\n",
      "---------------\n",
      "0.6021718986086283\n",
      "0.5655864925587453\n",
      "0.439175035776968\n",
      "0.5038893204625905\n",
      "0.40990170085760474\n",
      "---------------\n",
      "0.6975658223942907\n",
      "0.5572398365461594\n",
      "0.2410000672015234\n",
      "0.04728613712572036\n",
      "0.5785429280542916\n"
     ]
    }
   ],
   "source": [
    "norm_pump_1_in = (smoothed_data['pump_1_in']-smoothed_data['pump_1_in'].mean())/smoothed_data['pump_1_in']\n",
    "norm_pump_1_eff = (smoothed_data['pump_1_eff']-smoothed_data['pump_1_eff'].mean())/smoothed_data['pump_1_eff']\n",
    "\n",
    "norm_pump_2_in = (smoothed_data['pump_2_in']-smoothed_data['pump_2_in'].mean())/smoothed_data['pump_2_in']\n",
    "norm_pump_2_eff = (smoothed_data['pump_2_eff']-smoothed_data['pump_2_eff'].mean())/smoothed_data['pump_2_eff']\n",
    "\n",
    "norm_pump_3_in = (smoothed_data['pump_3_in']-smoothed_data['pump_3_in'].mean())/smoothed_data['pump_3_in']\n",
    "norm_pump_3_eff = (smoothed_data['pump_3_eff']-smoothed_data['pump_3_eff'].mean())/smoothed_data['pump_3_eff']\n",
    "\n",
    "centred_data = {\n",
    "    'pump_1_in': (smoothed_data['pump_1_in']-smoothed_data['pump_1_in'].mean())/smoothed_data['pump_1_in'],\n",
    "    'pump_2_in': (smoothed_data['pump_2_in']-smoothed_data['pump_2_in'].mean())/smoothed_data['pump_2_in'],\n",
    "    'pump_3_in': (smoothed_data['pump_3_in']-smoothed_data['pump_3_in'].mean())/smoothed_data['pump_3_in'],\n",
    "    'pump_4_in': (smoothed_data['pump_4_in']-smoothed_data['pump_4_in'].mean())/smoothed_data['pump_4_in'],\n",
    "    'pump_5_in': (smoothed_data['pump_5_in']-smoothed_data['pump_5_in'].mean())/smoothed_data['pump_5_in'],\n",
    "\n",
    "    'pump_1_out': (smoothed_data['pump_1_out']-smoothed_data['pump_1_out'].mean())/smoothed_data['pump_1_out'],\n",
    "    'pump_2_out': (smoothed_data['pump_2_out']-smoothed_data['pump_2_out'].mean())/smoothed_data['pump_2_out'],\n",
    "    'pump_3_out': (smoothed_data['pump_3_out']-smoothed_data['pump_3_out'].mean())/smoothed_data['pump_3_out'],\n",
    "    'pump_4_out': (smoothed_data['pump_4_out']-smoothed_data['pump_4_out'].mean())/smoothed_data['pump_4_out'],\n",
    "    'pump_5_out': (smoothed_data['pump_5_out']-smoothed_data['pump_5_out'].mean())/smoothed_data['pump_5_out'],\n",
    "\n",
    "    'pump_1_eff': (smoothed_data['pump_1_eff']-smoothed_data['pump_1_eff'].mean())/smoothed_data['pump_1_eff'],\n",
    "    'pump_2_eff': (smoothed_data['pump_2_eff']-smoothed_data['pump_2_eff'].mean())/smoothed_data['pump_2_eff'],\n",
    "    'pump_3_eff': (smoothed_data['pump_3_eff']-smoothed_data['pump_3_eff'].mean())/smoothed_data['pump_3_eff'],\n",
    "    'pump_4_eff': (smoothed_data['pump_4_eff']-smoothed_data['pump_4_eff'].mean())/smoothed_data['pump_4_eff'],\n",
    "    'pump_5_eff': (smoothed_data['pump_5_eff']-smoothed_data['pump_5_eff'].mean())/smoothed_data['pump_5_eff'],\n",
    "    \n",
    "    'pump_1_temp': (smoothed_data['pump_1_temp']-smoothed_data['pump_1_temp'].mean())/smoothed_data['pump_1_temp'],\n",
    "    'pump_2_temp': (smoothed_data['pump_2_temp']-smoothed_data['pump_2_temp'].mean())/smoothed_data['pump_2_temp'],\n",
    "    'pump_3_temp': (smoothed_data['pump_3_temp']-smoothed_data['pump_3_temp'].mean())/smoothed_data['pump_3_temp'],\n",
    "    'pump_4_temp': (smoothed_data['pump_4_temp']-smoothed_data['pump_4_temp'].mean())/smoothed_data['pump_4_temp'],\n",
    "    'pump_5_temp': (smoothed_data['pump_5_temp']-smoothed_data['pump_5_temp'].mean())/smoothed_data['pump_5_temp'],\n",
    "\n",
    "    'pump_1_revs': (smoothed_data['pump_1_revs']-smoothed_data['pump_1_revs'].mean())/smoothed_data['pump_1_revs'],\n",
    "    'pump_2_revs': (smoothed_data['pump_2_revs']-smoothed_data['pump_2_revs'].mean())/smoothed_data['pump_2_revs'],\n",
    "    'pump_3_revs': (smoothed_data['pump_3_revs']-smoothed_data['pump_3_revs'].mean())/smoothed_data['pump_3_revs'],\n",
    "    'pump_4_revs': (smoothed_data['pump_4_revs']-smoothed_data['pump_4_revs'].mean())/smoothed_data['pump_4_revs'],\n",
    "    'pump_5_revs': (smoothed_data['pump_5_revs']-smoothed_data['pump_5_revs'].mean())/smoothed_data['pump_5_revs'],\n",
    "\n",
    "    'pump_1_amper': (smoothed_data['pump_1_amper']-smoothed_data['pump_1_amper'].mean())/smoothed_data['pump_1_amper'],\n",
    "    'pump_2_amper': (smoothed_data['pump_2_amper']-smoothed_data['pump_2_amper'].mean())/smoothed_data['pump_2_amper'],\n",
    "    'pump_3_amper': (smoothed_data['pump_3_amper']-smoothed_data['pump_3_amper'].mean())/smoothed_data['pump_3_amper'],\n",
    "    'pump_4_amper': (smoothed_data['pump_4_amper']-smoothed_data['pump_4_amper'].mean())/smoothed_data['pump_4_amper'],\n",
    "    'pump_5_amper': (smoothed_data['pump_5_amper']-smoothed_data['pump_5_amper'].mean())/smoothed_data['pump_5_amper'],\n",
    "}\n",
    "\n",
    "corr_coefs = [\n",
    "    # p_in -- p_eff\n",
    "    np.corrcoef(centred_data['pump_1_in'].to_numpy(), centred_data['pump_1_eff'].to_numpy()),\n",
    "    np.corrcoef(centred_data['pump_2_in'].to_numpy(), centred_data['pump_2_eff'].to_numpy()),\n",
    "    np.corrcoef(centred_data['pump_3_in'].to_numpy(), centred_data['pump_3_eff'].to_numpy()),\n",
    "    np.corrcoef(centred_data['pump_4_in'].to_numpy(), centred_data['pump_4_eff'].to_numpy()),\n",
    "    np.corrcoef(centred_data['pump_5_in'].to_numpy(), centred_data['pump_5_eff'].to_numpy()),\n",
    "\n",
    "    # p_out -- p_eff\n",
    "    np.corrcoef(centred_data['pump_1_out'].to_numpy(), centred_data['pump_1_eff'].to_numpy()),\n",
    "    np.corrcoef(centred_data['pump_2_out'].to_numpy(), centred_data['pump_2_eff'].to_numpy()),\n",
    "    np.corrcoef(centred_data['pump_3_out'].to_numpy(), centred_data['pump_3_eff'].to_numpy()),\n",
    "    np.corrcoef(centred_data['pump_4_out'].to_numpy(), centred_data['pump_4_eff'].to_numpy()),\n",
    "    np.corrcoef(centred_data['pump_5_out'].to_numpy(), centred_data['pump_5_eff'].to_numpy()),\n",
    "\n",
    "    \n",
    "    # p_temp -- p_eff\n",
    "    np.corrcoef(centred_data['pump_1_temp'].to_numpy(), centred_data['pump_1_eff'].to_numpy()),\n",
    "    np.corrcoef(centred_data['pump_2_temp'].to_numpy(), centred_data['pump_2_eff'].to_numpy()),\n",
    "    np.corrcoef(centred_data['pump_3_temp'].to_numpy(), centred_data['pump_3_eff'].to_numpy()),\n",
    "    np.corrcoef(centred_data['pump_4_temp'].to_numpy(), centred_data['pump_4_eff'].to_numpy()),\n",
    "    np.corrcoef(centred_data['pump_5_temp'].to_numpy(), centred_data['pump_5_eff'].to_numpy()),    \n",
    "    \n",
    "    # p_I -- p_eff\n",
    "    np.corrcoef(centred_data['pump_1_amper'].to_numpy(), centred_data['pump_1_eff'].to_numpy()),\n",
    "    np.corrcoef(centred_data['pump_2_amper'].to_numpy(), centred_data['pump_2_eff'].to_numpy()),\n",
    "    np.corrcoef(centred_data['pump_3_amper'].to_numpy(), centred_data['pump_3_eff'].to_numpy()),\n",
    "    np.corrcoef(centred_data['pump_4_amper'].to_numpy(), centred_data['pump_4_eff'].to_numpy()),\n",
    "    np.corrcoef(centred_data['pump_5_amper'].to_numpy(), centred_data['pump_5_eff'].to_numpy()),    \n",
    "]\n",
    "\n",
    "\n",
    "for ind, coef in enumerate(corr_coefs):\n",
    "    if ind % 5 == 0:\n",
    "        print(\"---------------\")\n",
    "    print(coef[0][1])\n"
   ]
  },
  {
   "cell_type": "markdown",
   "metadata": {},
   "source": [
    "<h1>Линейная регрессия</h1>\n",
    "<p>Одномерная для Pin/out-КПД, Tпв-КПД</p>\n",
    "<p>Многомернаяя для Pin+Pout-КПД"
   ]
  },
  {
   "cell_type": "markdown",
   "metadata": {},
   "source": [
    "<h5>Давление - КПД</h5>"
   ]
  },
  {
   "cell_type": "code",
   "execution_count": 11,
   "metadata": {},
   "outputs": [
    {
     "data": {
      "application/vnd.jupyter.widget-view+json": {
       "model_id": "24656edef41a4a93a97f62fd43522f7d",
       "version_major": 2,
       "version_minor": 0
      },
      "text/plain": [
       "Canvas(toolbar=Toolbar(toolitems=[('Home', 'Reset original view', 'home', 'home'), ('Back', 'Back to previous …"
      ]
     },
     "metadata": {},
     "output_type": "display_data"
    },
    {
     "name": "stdout",
     "output_type": "stream",
     "text": [
      "R^2: 0.1995691873196883\n",
      "MAE: 0.02305080305855044\n",
      "RMSE: 0.07452765332271673\n",
      "y = -2.177 + -0.003439\n"
     ]
    }
   ],
   "source": [
    "from sklearn import datasets, linear_model\n",
    "from sklearn.metrics import mean_squared_error, r2_score\n",
    "\n",
    "model1 = linear_model.LinearRegression()\n",
    "\n",
    "x_test = centred_data['pump_5_out'].values.reshape(-1,1)\n",
    "y_test = centred_data['pump_5_eff'].values.reshape(-1,1)\n",
    "\n",
    "\n",
    "model1.fit(x_test, y_test)\n",
    "\n",
    "y_pred = model1.predict(x_test)\n",
    "\n",
    "fig51 = plt.figure(figsize=(8, 5))\n",
    "ax51 = fig51.add_subplot(111)\n",
    "\n",
    "ax51.scatter(x_test, y_test, s=3, label='Нормализованные данные (ПЭН-I)')\n",
    "ax51.plot(x_test, y_pred, color='orange', linewidth=3, label='Линия регрессии (ПЭН-I)')\n",
    "ax51.legend(loc=\"lower right\")\n",
    "ax51.set_ylabel(\"КПД насоса\")\n",
    "ax51.set_xlabel(\"Давление на напоре\")\n",
    "\n",
    "\n",
    "\n",
    "print(\"R^2:\", model1.score(x_test, y_test))\n",
    "print(\"MAE: {}\".format(np.abs(y_test-y_pred).mean()))\n",
    "print(\"RMSE: {}\".format(np.sqrt(((y_test-y_pred)**2).mean())))\n",
    "print(f'y = {round(model1.coef_[0][0],4)} + {round(model1.intercept_[0],6)}')"
   ]
  },
  {
   "cell_type": "code",
   "execution_count": 12,
   "metadata": {},
   "outputs": [
    {
     "data": {
      "application/vnd.jupyter.widget-view+json": {
       "model_id": "76a8447637ed46bc9a9bf5f333ff36d7",
       "version_major": 2,
       "version_minor": 0
      },
      "text/plain": [
       "Canvas(toolbar=Toolbar(toolitems=[('Home', 'Reset original view', 'home', 'home'), ('Back', 'Back to previous …"
      ]
     },
     "metadata": {},
     "output_type": "display_data"
    },
    {
     "data": {
      "text/plain": [
       "[<matplotlib.lines.Line2D at 0x7f0c5ece2668>]"
      ]
     },
     "execution_count": 12,
     "metadata": {},
     "output_type": "execute_result"
    }
   ],
   "source": [
    "from sklearn.preprocessing import PolynomialFeatures \n",
    "nb_degree = 4\n",
    "poly_reg = PolynomialFeatures(degree = nb_degree)\n",
    "\n",
    "x = filtred_data['pump_2_out'].to_numpy()\n",
    "y = filtred_data['pump_2_eff'].to_numpy()\n",
    "\n",
    "\n",
    "y = y[x.argsort()]\n",
    "x = x[x.argsort()]\n",
    "\n",
    "x = x[:, np.newaxis]\n",
    "y = y[:, np.newaxis]\n",
    "\n",
    "\n",
    "X_TRANSF = poly_reg.fit_transform(x)\n",
    "\n",
    "poly_reg.fit(X_TRANSF, y)\n",
    "\n",
    "lin_reg = linear_model.LinearRegression()\n",
    "lin_reg.fit(X_TRANSF, y)\n",
    "\n",
    "fig511 = plt.figure(figsize=(8, 5))\n",
    "ax511 = fig511.add_subplot(111)\n",
    "\n",
    "ax511.scatter(x, y)\n",
    "ax511.plot(x,lin_reg.predict(X_TRANSF), color='orange')\n"
   ]
  },
  {
   "cell_type": "markdown",
   "metadata": {},
   "source": [
    "<h5>Температура пит. воды - КПД </h5>"
   ]
  },
  {
   "cell_type": "code",
   "execution_count": 13,
   "metadata": {},
   "outputs": [
    {
     "data": {
      "application/vnd.jupyter.widget-view+json": {
       "model_id": "6a407d3ac575488b810725ea5b84eb40",
       "version_major": 2,
       "version_minor": 0
      },
      "text/plain": [
       "Canvas(toolbar=Toolbar(toolitems=[('Home', 'Reset original view', 'home', 'home'), ('Back', 'Back to previous …"
      ]
     },
     "metadata": {},
     "output_type": "display_data"
    },
    {
     "name": "stdout",
     "output_type": "stream",
     "text": [
      "R^2: 0.1680194043659572\n",
      "MAE: 0.021027113005316855\n",
      "RMSE: 0.07598224934560963\n",
      "y = 2.649 + -0.002343\n"
     ]
    }
   ],
   "source": [
    "model2 = linear_model.LinearRegression()\n",
    "\n",
    "x_test = centred_data['pump_5_temp'].values.reshape(-1,1)\n",
    "y_test = centred_data['pump_5_eff'].values.reshape(-1,1)\n",
    "\n",
    "\n",
    "model2.fit(x_test, y_test)\n",
    "\n",
    "y_pred = model2.predict(x_test)\n",
    "\n",
    "fig52 = plt.figure(figsize=(8, 5))\n",
    "ax52 = fig52.add_subplot(111)\n",
    "\n",
    "ax52.scatter(x_test, y_test, s=3, label='Нормализованные данные (ПЭН-I)')\n",
    "ax52.plot(x_test, y_pred, color='orange', linewidth=3, label='Линия регрессии (ПЭН-I)')\n",
    "ax52.legend(loc=\"lower right\")\n",
    "ax52.set_ylabel(\"КПД насоса\")\n",
    "ax52.set_xlabel(\"Темп. пит. воды\")\n",
    "\n",
    "print(\"R^2:\", model2.score(x_test, y_test))\n",
    "print(\"MAE: {}\".format(np.abs(y_test-y_pred).mean()))\n",
    "print(\"RMSE: {}\".format(np.sqrt(((y_test-y_pred)**2).mean())))\n",
    "print(f'y = {round(model2.coef_[0][0],4)} + {round(model2.intercept_[0],6)}')\n"
   ]
  },
  {
   "cell_type": "markdown",
   "metadata": {},
   "source": [
    "<h5>Многомерная регрессия</h5>"
   ]
  },
  {
   "cell_type": "code",
   "execution_count": 14,
   "metadata": {},
   "outputs": [
    {
     "data": {
      "application/vnd.jupyter.widget-view+json": {
       "model_id": "3911b2f6a5c04c8b809b3aa4243fee8a",
       "version_major": 2,
       "version_minor": 0
      },
      "text/plain": [
       "Canvas(toolbar=Toolbar(toolitems=[('Home', 'Reset original view', 'home', 'home'), ('Back', 'Back to previous …"
      ]
     },
     "metadata": {},
     "output_type": "display_data"
    },
    {
     "name": "stdout",
     "output_type": "stream",
     "text": [
      "R^2: 0.3418427614765174\n",
      "MAE: 0.005315020579435241\n",
      "RMSE: 0.009163338412245202\n"
     ]
    }
   ],
   "source": [
    "from sklearn import datasets, linear_model\n",
    "from sklearn.metrics import mean_squared_error, r2_score\n",
    "\n",
    "model3 = linear_model.LinearRegression()\n",
    "\n",
    "reg_df = pd.DataFrame(\n",
    "    {\n",
    "        'pump_1_in':filtred_df['pump_1_in'],\n",
    "        'pump_1_out':filtred_df['pump_1_out'],\n",
    "        'pump_1_eff':filtred_df['pump_1_eff'],\n",
    "    }\n",
    ")\n",
    "\n",
    "x_test = reg_df[['pump_1_in', 'pump_1_out']]\n",
    "y_test = reg_df['pump_1_eff']\n",
    "\n",
    "model3.fit(x_test, y_test)\n",
    "\n",
    "y_pred = model3.predict(x_test)\n",
    "\n",
    "\n",
    "score = model3.score(x_test, y_test)\n",
    "\n",
    "reg_df = pd.DataFrame(\n",
    "    {\n",
    "        'pump_1_in':filtred_df['pump_1_in'],\n",
    "        'pump_1_out':filtred_df['pump_1_out'],\n",
    "#         'pump_1_eff':filtred_df['pump_1_eff'],\n",
    "    }\n",
    ")\n",
    "\n",
    "x = reg_df[['pump_1_in', 'pump_1_out']].values\n",
    "y = filtred_df['pump_1_eff'].to_numpy()\n",
    "\n",
    "\n",
    "fig6 = plt.figure(figsize=(25, 10))\n",
    "ax6 = fig6.add_subplot(131, projection='3d')\n",
    "\n",
    "ax6.scatter(x[:,0], x[:,1], y, s=3)\n",
    "ax6.scatter(x[:,0], x[:,1], y_pred, s=8)\n",
    "\n",
    "print(\"R^2:\", score)\n",
    "print(\"MAE: {}\".format(np.abs(y_test-y_pred).mean()))\n",
    "print(\"RMSE: {}\".format(np.sqrt(((y_test-y_pred)**2).mean())))\n",
    "\n",
    "\n",
    "coefs = model3.coef_\n",
    "intercept = model3.intercept_\n",
    "\n",
    "import math\n",
    "n = (x[:,0].max()-x[:,0].min())/0.01\n",
    "m = (x[:,1].max()-x[:,1].min())/0.01\n",
    "\n",
    "n = math.ceil(n)\n",
    "m = math.ceil(m)\n",
    "\n",
    "# xs = np.tile(np.arange(x[:,0].min(),x[:,0].max(), 0.01), (n,1))\n",
    "# ys = np.tile(np.arange(x[:,1].min(),x[:,1].max(), 0.01), (m,1)).T\n",
    "\n",
    "xs = np.linspace(x[:,0].min(), x[:,0].max(), 50)\n",
    "ys = np.linspace(x[:,1].min(), x[:,1].max(), 50)\n",
    "\n",
    "xs, ys = np.meshgrid(xs,ys)\n",
    "\n",
    "zs = xs*coefs[0]+ys*coefs[1]+intercept\n",
    "\n",
    "ax6.plot_surface(xs,ys,zs, alpha=0.5)\n",
    "plt.show()"
   ]
  },
  {
   "cell_type": "markdown",
   "metadata": {},
   "source": [
    "<h5>Попарные коэф. корреляции</h5>"
   ]
  },
  {
   "cell_type": "code",
   "execution_count": 15,
   "metadata": {},
   "outputs": [],
   "source": [
    "# # df.rename(columns={\n",
    "# #     pump_in_cols[0]: \"pump_1_in\",\n",
    "# #     pump_in_cols[1]: \"pump_2_in\",\n",
    "# #     pump_in_cols[2]: \"pump_3_in\",\n",
    "# #     pump_in_cols[3]: \"pump_4_in\",\n",
    "# #     pump_in_cols[4]: \"pump_5_in\",\n",
    "    \n",
    "# #     pump_out_cols[0]: \"pump_1_out\",\n",
    "# #     pump_out_cols[1]: \"pump_2_out\",\n",
    "# #     pump_out_cols[2]: \"pump_3_out\",\n",
    "# #     pump_out_cols[3]: \"pump_4_out\",\n",
    "# #     pump_out_cols[4]: \"pump_5_out\",\n",
    "    \n",
    "# #     pump_mass_cols[0]: \"pump_1_mass\",\n",
    "# #     pump_mass_cols[1]: \"pump_2_mass\",\n",
    "# #     pump_mass_cols[2]: \"pump_3_mass\",\n",
    "# #     pump_mass_cols[3]: \"pump_4_mass\",\n",
    "# #     pump_mass_cols[4]: \"pump_5_mass\",\n",
    "    \n",
    "# #     pump_temp_col: \"temp\",\n",
    "    \n",
    "# #     pump_amper_cols[0]: \"pump_1_amper\",\n",
    "# #     pump_amper_cols[1]: \"pump_2_amper\",\n",
    "# #     pump_amper_cols[2]: \"pump_3_amper\",\n",
    "# #     pump_amper_cols[3]: \"pump_4_amper\",\n",
    "# #     pump_amper_cols[4]: \"pump_5_amper\",\n",
    "    \n",
    "# #     pump_revs_cols[0]: \"pump_1_revs\",\n",
    "# #     pump_revs_cols[1]: \"pump_2_revs\",\n",
    "# #     pump_revs_cols[2]: \"pump_3_revs\",\n",
    "# #     pump_revs_cols[3]: \"pump_4_revs\",\n",
    "# #     pump_revs_cols[4]: \"pump_5_revs\",\n",
    "    \n",
    "# #     pump_volt_cols[0]: \"pump_1_volt\",\n",
    "# #     pump_volt_cols[1]: \"pump_2_volt\",\n",
    "# #     pump_volt_cols[2]: \"pump_3_volt\",\n",
    "# #     pump_volt_cols[3]: \"pump_4_volt\",\n",
    "    \n",
    "# #     pump_turbine_col: \"pump_turbine\",\n",
    "# #     pump_reactor_col: \"pump_reactor\",\n",
    "# # }, inplace = True)\n",
    "\n",
    "# df.rename(columns={\n",
    "#     pump_in_cols[0]: \"ПЭН-1 Pнап\",\n",
    "#     pump_in_cols[1]: \"ПЭН-2 Pнап\",\n",
    "#     pump_in_cols[2]: \"ПЭН-3 Pнап\",\n",
    "#     pump_in_cols[3]: \"ПЭН-4 Pнап\",\n",
    "#     pump_in_cols[4]: \"ПЭН-5 Pнап\",\n",
    "    \n",
    "#     pump_out_cols[0]: \"ПЭН-1 Pвсас\",\n",
    "#     pump_out_cols[1]: \"ПЭН-2 Pвсас\",\n",
    "#     pump_out_cols[2]: \"ПЭН-3 Pвсас\",\n",
    "#     pump_out_cols[3]: \"ПЭН-4 Pвсас\",\n",
    "#     pump_out_cols[4]: \"ПЭН-5 Pвсас\",\n",
    "    \n",
    "#     pump_mass_cols[0]: \"ПЭН-1 Расход\",\n",
    "#     pump_mass_cols[1]: \"ПЭН-2 Расход\",\n",
    "#     pump_mass_cols[2]: \"ПЭН-3 Расход\",\n",
    "#     pump_mass_cols[3]: \"ПЭН-4 Расход\",\n",
    "#     pump_mass_cols[4]: \"ПЭН-5 Расход\",\n",
    "    \n",
    "#     pump_temp_col: \"Tпит.в\",\n",
    "    \n",
    "#     pump_amper_cols[0]: \"ПЭН-1 Сила тока\",\n",
    "#     pump_amper_cols[1]: \"ПЭН-2 Сила тока\",\n",
    "#     pump_amper_cols[2]: \"ПЭН-3 Сила тока\",\n",
    "#     pump_amper_cols[3]: \"ПЭН-4 Сила тока\",\n",
    "#     pump_amper_cols[4]: \"ПЭН-5 Сила тока\",\n",
    "    \n",
    "#     pump_revs_cols[0]: \"ПЭН-1 Част.вр.эл.дв.\",\n",
    "#     pump_revs_cols[1]: \"ПЭН-2 Част.вр.эл.дв.\",\n",
    "#     pump_revs_cols[2]: \"ПЭН-3 Част.вр.эл.дв.\",\n",
    "#     pump_revs_cols[3]: \"ПЭН-4 Част.вр.эл.дв.\",\n",
    "#     pump_revs_cols[4]: \"ПЭН-5 Част.вр.эл.дв.\",\n",
    "    \n",
    "#     pump_volt_cols[0]: \"Напряж. секц.BBA\",\n",
    "#     pump_volt_cols[1]: \"Напряж. секц.BBB\",\n",
    "#     pump_volt_cols[2]: \"Напряж. секц.BBC\",\n",
    "#     pump_volt_cols[3]: \"Напряж. секц.BBD\",\n",
    "    \n",
    "#     pump_turbine_col: \"Мощность турб\",\n",
    "#     pump_reactor_col: \"Мощность реакт\",\n",
    "# }, inplace = True)\n",
    "\n",
    "\n",
    "# df.corr()"
   ]
  },
  {
   "cell_type": "code",
   "execution_count": 16,
   "metadata": {},
   "outputs": [],
   "source": [
    "import tensorflow as tf\n",
    "from tensorflow import keras\n",
    "from tensorflow.keras import layers"
   ]
  },
  {
   "cell_type": "code",
   "execution_count": 17,
   "metadata": {},
   "outputs": [],
   "source": [
    "pump_1_filtred_df = pd.DataFrame({\n",
    "    'pump_in': filtred_data['pump_1_in'],\n",
    "    'pump_out': filtred_data['pump_1_out'],\n",
    "    'pump_mass': filtred_data['pump_1_mass'],\n",
    "    'pump_temp': filtred_data['pump_1_temp'],\n",
    "    'pump_revs': filtred_data['pump_1_revs'],\n",
    "    'pump_amper': filtred_data['pump_1_amper'],\n",
    "    'pump_eff': filtred_data['pump_1_eff'],\n",
    "    \n",
    "})"
   ]
  },
  {
   "cell_type": "code",
   "execution_count": 18,
   "metadata": {},
   "outputs": [],
   "source": [
    "train_dataset = pump_1_filtred_df.sample(frac=0.8,random_state=0)\n",
    "test_dataset = pump_1_filtred_df.drop(train_dataset.index)"
   ]
  },
  {
   "cell_type": "code",
   "execution_count": 19,
   "metadata": {},
   "outputs": [],
   "source": [
    "# import seaborn as sns\n",
    "\n",
    "\n",
    "# sns.pairplot(train_dataset[[\"pump_in\", \"pump_out\", \"pump_mass\", \"pump_temp\"]], diag_kind=\"kde\")"
   ]
  },
  {
   "cell_type": "code",
   "execution_count": 20,
   "metadata": {},
   "outputs": [
    {
     "data": {
      "text/html": [
       "<div>\n",
       "<style scoped>\n",
       "    .dataframe tbody tr th:only-of-type {\n",
       "        vertical-align: middle;\n",
       "    }\n",
       "\n",
       "    .dataframe tbody tr th {\n",
       "        vertical-align: top;\n",
       "    }\n",
       "\n",
       "    .dataframe thead th {\n",
       "        text-align: right;\n",
       "    }\n",
       "</style>\n",
       "<table border=\"1\" class=\"dataframe\">\n",
       "  <thead>\n",
       "    <tr style=\"text-align: right;\">\n",
       "      <th></th>\n",
       "      <th>count</th>\n",
       "      <th>mean</th>\n",
       "      <th>std</th>\n",
       "      <th>min</th>\n",
       "      <th>25%</th>\n",
       "      <th>50%</th>\n",
       "      <th>75%</th>\n",
       "      <th>max</th>\n",
       "    </tr>\n",
       "  </thead>\n",
       "  <tbody>\n",
       "    <tr>\n",
       "      <th>pump_in</th>\n",
       "      <td>4613.0</td>\n",
       "      <td>0.973126</td>\n",
       "      <td>0.033170</td>\n",
       "      <td>0.72</td>\n",
       "      <td>0.98</td>\n",
       "      <td>0.98</td>\n",
       "      <td>0.98</td>\n",
       "      <td>1.0</td>\n",
       "    </tr>\n",
       "    <tr>\n",
       "      <th>pump_out</th>\n",
       "      <td>4613.0</td>\n",
       "      <td>8.615261</td>\n",
       "      <td>0.126537</td>\n",
       "      <td>8.40</td>\n",
       "      <td>8.60</td>\n",
       "      <td>8.60</td>\n",
       "      <td>8.60</td>\n",
       "      <td>9.7</td>\n",
       "    </tr>\n",
       "    <tr>\n",
       "      <th>pump_mass</th>\n",
       "      <td>4613.0</td>\n",
       "      <td>456.860178</td>\n",
       "      <td>21.013701</td>\n",
       "      <td>116.00</td>\n",
       "      <td>455.00</td>\n",
       "      <td>459.00</td>\n",
       "      <td>465.00</td>\n",
       "      <td>477.0</td>\n",
       "    </tr>\n",
       "    <tr>\n",
       "      <th>pump_temp</th>\n",
       "      <td>4613.0</td>\n",
       "      <td>176.991762</td>\n",
       "      <td>1.988785</td>\n",
       "      <td>163.00</td>\n",
       "      <td>176.00</td>\n",
       "      <td>177.00</td>\n",
       "      <td>178.00</td>\n",
       "      <td>179.0</td>\n",
       "    </tr>\n",
       "    <tr>\n",
       "      <th>pump_revs</th>\n",
       "      <td>4613.0</td>\n",
       "      <td>2993.093648</td>\n",
       "      <td>1.662005</td>\n",
       "      <td>2990.00</td>\n",
       "      <td>2991.00</td>\n",
       "      <td>2994.00</td>\n",
       "      <td>2994.00</td>\n",
       "      <td>2998.0</td>\n",
       "    </tr>\n",
       "    <tr>\n",
       "      <th>pump_amper</th>\n",
       "      <td>4613.0</td>\n",
       "      <td>306.326685</td>\n",
       "      <td>5.125711</td>\n",
       "      <td>260.00</td>\n",
       "      <td>305.00</td>\n",
       "      <td>307.00</td>\n",
       "      <td>309.00</td>\n",
       "      <td>316.0</td>\n",
       "    </tr>\n",
       "  </tbody>\n",
       "</table>\n",
       "</div>"
      ],
      "text/plain": [
       "             count         mean        std      min      25%      50%  \\\n",
       "pump_in     4613.0     0.973126   0.033170     0.72     0.98     0.98   \n",
       "pump_out    4613.0     8.615261   0.126537     8.40     8.60     8.60   \n",
       "pump_mass   4613.0   456.860178  21.013701   116.00   455.00   459.00   \n",
       "pump_temp   4613.0   176.991762   1.988785   163.00   176.00   177.00   \n",
       "pump_revs   4613.0  2993.093648   1.662005  2990.00  2991.00  2994.00   \n",
       "pump_amper  4613.0   306.326685   5.125711   260.00   305.00   307.00   \n",
       "\n",
       "                75%     max  \n",
       "pump_in        0.98     1.0  \n",
       "pump_out       8.60     9.7  \n",
       "pump_mass    465.00   477.0  \n",
       "pump_temp    178.00   179.0  \n",
       "pump_revs   2994.00  2998.0  \n",
       "pump_amper   309.00   316.0  "
      ]
     },
     "execution_count": 20,
     "metadata": {},
     "output_type": "execute_result"
    }
   ],
   "source": [
    "train_stats = train_dataset.describe()\n",
    "train_stats.pop(\"pump_eff\")\n",
    "train_stats = train_stats.transpose()\n",
    "train_stats"
   ]
  },
  {
   "cell_type": "code",
   "execution_count": 21,
   "metadata": {},
   "outputs": [],
   "source": [
    "train_labels = train_dataset.pop('pump_eff')\n",
    "test_labels = test_dataset.pop('pump_eff')\n",
    "\n",
    "def norm(x):\n",
    "  return (x - train_stats['mean']) / train_stats['std']\n",
    "normed_train_data = norm(train_dataset)\n",
    "normed_test_data = norm(test_dataset)"
   ]
  },
  {
   "cell_type": "code",
   "execution_count": 22,
   "metadata": {},
   "outputs": [
    {
     "name": "stdout",
     "output_type": "stream",
     "text": [
      "Model: \"sequential\"\n",
      "_________________________________________________________________\n",
      "Layer (type)                 Output Shape              Param #   \n",
      "=================================================================\n",
      "dense (Dense)                (None, 64)                448       \n",
      "_________________________________________________________________\n",
      "dense_1 (Dense)              (None, 64)                4160      \n",
      "_________________________________________________________________\n",
      "dense_2 (Dense)              (None, 1)                 65        \n",
      "=================================================================\n",
      "Total params: 4,673\n",
      "Trainable params: 4,673\n",
      "Non-trainable params: 0\n",
      "_________________________________________________________________\n"
     ]
    }
   ],
   "source": [
    "def build_model():\n",
    "  model = keras.Sequential([\n",
    "    layers.Dense(64, activation='relu', input_shape=[len(train_dataset.keys())]),\n",
    "    layers.Dense(64, activation='relu'),\n",
    "    layers.Dense(1)\n",
    "  ])\n",
    "\n",
    "  optimizer = tf.keras.optimizers.RMSprop(0.001)\n",
    "\n",
    "  model.compile(loss='mse',\n",
    "                optimizer=optimizer,\n",
    "                metrics=['mae', 'mse'])\n",
    "  return model\n",
    "\n",
    "model = build_model()\n",
    "\n",
    "model.summary()"
   ]
  },
  {
   "cell_type": "code",
   "execution_count": 23,
   "metadata": {},
   "outputs": [
    {
     "data": {
      "text/plain": [
       "array([[ 0.26063997],\n",
       "       [ 0.03677778],\n",
       "       [ 0.06046809],\n",
       "       [-0.03488826],\n",
       "       [ 0.03677778],\n",
       "       [ 0.0429829 ],\n",
       "       [ 0.02289755],\n",
       "       [ 0.14630553],\n",
       "       [ 0.08980896],\n",
       "       [ 0.3740886 ]], dtype=float32)"
      ]
     },
     "execution_count": 23,
     "metadata": {},
     "output_type": "execute_result"
    }
   ],
   "source": [
    "example_batch = normed_train_data[:10]\n",
    "example_result = model.predict(example_batch)\n",
    "example_result"
   ]
  },
  {
   "cell_type": "code",
   "execution_count": 24,
   "metadata": {},
   "outputs": [
    {
     "name": "stdout",
     "output_type": "stream",
     "text": [
      "\n",
      "....................................................................................................\n",
      "....................................................................................................\n",
      "....................................................................................................\n",
      "....................................................................................................\n",
      "....................................................................................................\n",
      "....................................................................................................\n",
      "....................................................................................................\n",
      "....................................................................................................\n",
      "....................................................................................................\n",
      "...................................................................................................."
     ]
    }
   ],
   "source": [
    "# Выведем прогресс обучения в виде точек после каждой завершенной эпохи\n",
    "class PrintDot(keras.callbacks.Callback):\n",
    "  def on_epoch_end(self, epoch, logs):\n",
    "    if epoch % 100 == 0: print('')\n",
    "    print('.', end='')\n",
    "\n",
    "EPOCHS = 1000\n",
    "\n",
    "history = model.fit(\n",
    "  normed_train_data, train_labels,\n",
    "  epochs=EPOCHS, validation_split = 0.2, verbose=0,\n",
    "  callbacks=[PrintDot()])"
   ]
  },
  {
   "cell_type": "code",
   "execution_count": 25,
   "metadata": {},
   "outputs": [
    {
     "data": {
      "text/html": [
       "<div>\n",
       "<style scoped>\n",
       "    .dataframe tbody tr th:only-of-type {\n",
       "        vertical-align: middle;\n",
       "    }\n",
       "\n",
       "    .dataframe tbody tr th {\n",
       "        vertical-align: top;\n",
       "    }\n",
       "\n",
       "    .dataframe thead th {\n",
       "        text-align: right;\n",
       "    }\n",
       "</style>\n",
       "<table border=\"1\" class=\"dataframe\">\n",
       "  <thead>\n",
       "    <tr style=\"text-align: right;\">\n",
       "      <th></th>\n",
       "      <th>loss</th>\n",
       "      <th>mae</th>\n",
       "      <th>mse</th>\n",
       "      <th>val_loss</th>\n",
       "      <th>val_mae</th>\n",
       "      <th>val_mse</th>\n",
       "      <th>epoch</th>\n",
       "    </tr>\n",
       "  </thead>\n",
       "  <tbody>\n",
       "    <tr>\n",
       "      <th>995</th>\n",
       "      <td>0.000006</td>\n",
       "      <td>0.001721</td>\n",
       "      <td>0.000006</td>\n",
       "      <td>0.000008</td>\n",
       "      <td>0.001968</td>\n",
       "      <td>0.000008</td>\n",
       "      <td>995</td>\n",
       "    </tr>\n",
       "    <tr>\n",
       "      <th>996</th>\n",
       "      <td>0.000006</td>\n",
       "      <td>0.001716</td>\n",
       "      <td>0.000006</td>\n",
       "      <td>0.000008</td>\n",
       "      <td>0.001865</td>\n",
       "      <td>0.000008</td>\n",
       "      <td>996</td>\n",
       "    </tr>\n",
       "    <tr>\n",
       "      <th>997</th>\n",
       "      <td>0.000006</td>\n",
       "      <td>0.001738</td>\n",
       "      <td>0.000006</td>\n",
       "      <td>0.000008</td>\n",
       "      <td>0.001848</td>\n",
       "      <td>0.000008</td>\n",
       "      <td>997</td>\n",
       "    </tr>\n",
       "    <tr>\n",
       "      <th>998</th>\n",
       "      <td>0.000006</td>\n",
       "      <td>0.001708</td>\n",
       "      <td>0.000006</td>\n",
       "      <td>0.000014</td>\n",
       "      <td>0.002819</td>\n",
       "      <td>0.000014</td>\n",
       "      <td>998</td>\n",
       "    </tr>\n",
       "    <tr>\n",
       "      <th>999</th>\n",
       "      <td>0.000006</td>\n",
       "      <td>0.001718</td>\n",
       "      <td>0.000006</td>\n",
       "      <td>0.000011</td>\n",
       "      <td>0.002556</td>\n",
       "      <td>0.000011</td>\n",
       "      <td>999</td>\n",
       "    </tr>\n",
       "  </tbody>\n",
       "</table>\n",
       "</div>"
      ],
      "text/plain": [
       "         loss       mae       mse  val_loss   val_mae   val_mse  epoch\n",
       "995  0.000006  0.001721  0.000006  0.000008  0.001968  0.000008    995\n",
       "996  0.000006  0.001716  0.000006  0.000008  0.001865  0.000008    996\n",
       "997  0.000006  0.001738  0.000006  0.000008  0.001848  0.000008    997\n",
       "998  0.000006  0.001708  0.000006  0.000014  0.002819  0.000014    998\n",
       "999  0.000006  0.001718  0.000006  0.000011  0.002556  0.000011    999"
      ]
     },
     "execution_count": 25,
     "metadata": {},
     "output_type": "execute_result"
    }
   ],
   "source": [
    "hist = pd.DataFrame(history.history)\n",
    "hist['epoch'] = history.epoch\n",
    "hist.tail()"
   ]
  },
  {
   "cell_type": "code",
   "execution_count": 30,
   "metadata": {},
   "outputs": [
    {
     "data": {
      "application/vnd.jupyter.widget-view+json": {
       "model_id": "10d65e7023384a3e9117f6bd7219f52e",
       "version_major": 2,
       "version_minor": 0
      },
      "text/plain": [
       "Canvas(toolbar=Toolbar(toolitems=[('Home', 'Reset original view', 'home', 'home'), ('Back', 'Back to previous …"
      ]
     },
     "metadata": {},
     "output_type": "display_data"
    },
    {
     "data": {
      "application/vnd.jupyter.widget-view+json": {
       "model_id": "dadbd5845d8a4dc4bc761a6440efa73f",
       "version_major": 2,
       "version_minor": 0
      },
      "text/plain": [
       "Canvas(toolbar=Toolbar(toolitems=[('Home', 'Reset original view', 'home', 'home'), ('Back', 'Back to previous …"
      ]
     },
     "metadata": {},
     "output_type": "display_data"
    }
   ],
   "source": [
    "def plot_history(history):\n",
    "  hist = pd.DataFrame(history.history)\n",
    "  hist['epoch'] = history.epoch\n",
    "\n",
    "  plt.figure()\n",
    "  plt.xlabel('Epoch')\n",
    "  plt.ylabel('Mean Abs Error [MPG]')\n",
    "  plt.plot(hist['epoch'], hist['mae'],\n",
    "           label='Train Error')\n",
    "  plt.plot(hist['epoch'], hist['val_mae'],\n",
    "           label = 'Val Error')\n",
    "  plt.ylim([0,0.06])\n",
    "  plt.legend()\n",
    "\n",
    "  plt.figure()\n",
    "  plt.xlabel('Epoch')\n",
    "  plt.ylabel('Mean Square Error [$MPG^2$]')\n",
    "  plt.plot(hist['epoch'], hist['mse'],\n",
    "           label='Train Error')\n",
    "  plt.plot(hist['epoch'], hist['val_mse'],\n",
    "           label = 'Val Error')\n",
    "  plt.ylim([0,0.013])\n",
    "  plt.legend()\n",
    "  plt.show()\n",
    "\n",
    "\n",
    "plot_history(history)"
   ]
  },
  {
   "cell_type": "code",
   "execution_count": 27,
   "metadata": {},
   "outputs": [
    {
     "name": "stdout",
     "output_type": "stream",
     "text": [
      "\n",
      "..............................................................."
     ]
    },
    {
     "data": {
      "application/vnd.jupyter.widget-view+json": {
       "model_id": "21573f3cd0dc49f994f7c7de455b0ce1",
       "version_major": 2,
       "version_minor": 0
      },
      "text/plain": [
       "Canvas(toolbar=Toolbar(toolitems=[('Home', 'Reset original view', 'home', 'home'), ('Back', 'Back to previous …"
      ]
     },
     "metadata": {},
     "output_type": "display_data"
    },
    {
     "data": {
      "application/vnd.jupyter.widget-view+json": {
       "model_id": "3ba3f558cd464a0fa8504a40e0b0e843",
       "version_major": 2,
       "version_minor": 0
      },
      "text/plain": [
       "Canvas(toolbar=Toolbar(toolitems=[('Home', 'Reset original view', 'home', 'home'), ('Back', 'Back to previous …"
      ]
     },
     "metadata": {},
     "output_type": "display_data"
    }
   ],
   "source": [
    "model = build_model()\n",
    "\n",
    "# Параметр patience определяет количество эпох, проверяемых на улучшение\n",
    "early_stop = keras.callbacks.EarlyStopping(monitor='val_loss', patience=10)\n",
    "\n",
    "history = model.fit(normed_train_data, train_labels, epochs=EPOCHS,\n",
    "                    validation_split = 0.2, verbose=0, callbacks=[early_stop, PrintDot()])\n",
    "\n",
    "plot_history(history)"
   ]
  },
  {
   "cell_type": "code",
   "execution_count": 28,
   "metadata": {},
   "outputs": [
    {
     "name": "stdout",
     "output_type": "stream",
     "text": [
      "37/37 - 0s - loss: 5.1900e-05 - mae: 0.0057 - mse: 5.1900e-05\n",
      "Testing set Mean Abs Error:  0.01 MPG\n"
     ]
    }
   ],
   "source": [
    "loss, mae, mse = model.evaluate(normed_test_data, test_labels, verbose=2)\n",
    "\n",
    "print(\"Testing set Mean Abs Error: {:5.2f} MPG\".format(mae))"
   ]
  },
  {
   "cell_type": "code",
   "execution_count": 29,
   "metadata": {},
   "outputs": [
    {
     "data": {
      "application/vnd.jupyter.widget-view+json": {
       "model_id": "274fdb62249c455eabbce8814aace896",
       "version_major": 2,
       "version_minor": 0
      },
      "text/plain": [
       "Canvas(toolbar=Toolbar(toolitems=[('Home', 'Reset original view', 'home', 'home'), ('Back', 'Back to previous …"
      ]
     },
     "metadata": {},
     "output_type": "display_data"
    }
   ],
   "source": [
    "test_predictions = model.predict(normed_test_data).flatten()\n",
    "\n",
    "\n",
    "fig7 = plt.figure(figsize=(25, 10))\n",
    "ax7 = fig6.add_subplot(131)\n",
    "\n",
    "\n",
    "ax7.scatter(test_labels, test_predictions)\n",
    "# ax7.xlabel('True Values [MPG]'\n",
    "#           )\n",
    "# ax7.ylabel('Predictions [MPG]')\n",
    "# ax7.axis('equal')\n",
    "# ax7.axis('square')\n",
    "# ax7.xlim([0,plt.xlim()[1]])\n",
    "# ax7.ylim([0,plt.ylim()[1]])\n",
    "_ = ax7.plot()"
   ]
  },
  {
   "cell_type": "code",
   "execution_count": null,
   "metadata": {},
   "outputs": [],
   "source": []
  }
 ],
 "metadata": {
  "kernelspec": {
   "display_name": "Python 3",
   "language": "python",
   "name": "python3"
  },
  "language_info": {
   "codemirror_mode": {
    "name": "ipython",
    "version": 3
   },
   "file_extension": ".py",
   "mimetype": "text/x-python",
   "name": "python",
   "nbconvert_exporter": "python",
   "pygments_lexer": "ipython3",
   "version": "3.6.9"
  }
 },
 "nbformat": 4,
 "nbformat_minor": 4
}
