{
 "cells": [
  {
   "cell_type": "code",
   "execution_count": 1,
   "metadata": {},
   "outputs": [],
   "source": [
    "import pandas as pd\n",
    "import numpy as np\n",
    "\n",
    "\n",
    "\n",
    "file = \"aes_data.xlsx\"\n",
    "\n",
    "data = pd.read_excel(file)\n",
    "\n",
    "\n",
    "\n",
    "\n",
    "# data = data.drop([0,1,2], axis=0)\n",
    "\n",
    "df = data.drop([0,1,2], axis=0)\n",
    "cols_fillna = df.columns.values\n",
    "for col in cols_fillna[1:]:\n",
    "    df[col] = pd.to_numeric(df[col], errors='coerce').fillna(0)\n",
    "\n",
    "\n",
    "    \n",
    "\n",
    "# df[cols_fillna[-1]][df[cols_fillna[-1]].isnull()]\n",
    "\n",
    "# data.head()\n"
   ]
  },
  {
   "cell_type": "code",
   "execution_count": 2,
   "metadata": {},
   "outputs": [],
   "source": [
    "# df[cols_fillna[-1]] = df[cols_fillna[-1]].fillna(0)\n",
    "\n",
    "# df[cols_fillna[-1]][df[cols_fillna[-1]].isnull()]"
   ]
  },
  {
   "cell_type": "code",
   "execution_count": 3,
   "metadata": {},
   "outputs": [
    {
     "data": {
      "text/plain": [
       "Время                  object\n",
       "10LAB11CP002_XQ01     float64\n",
       "10LAB12CP002_XQ01     float64\n",
       "10LAB13CP002_XQ01     float64\n",
       "10LAB14CP002_XQ01     float64\n",
       "10LAB15CP002_XQ01     float64\n",
       "10LAB11CP003_XQ01     float64\n",
       "10LAB12CP003_XQ01     float64\n",
       "10LAB13CP003_XQ01     float64\n",
       "10LAB14CP003_XQ01     float64\n",
       "10LAB15CP003_XQ01     float64\n",
       "10LAB11CF001_XQ01     float64\n",
       "10LAB12CF001_XQ01     float64\n",
       "10LAB13CF001_XQ01     float64\n",
       "10LAB14CF001_XQ01     float64\n",
       "10LAB15CF001_XQ01     float64\n",
       "10LAB00FT902_XQ01     float64\n",
       "10LAC11CE021_XQ01     float64\n",
       "10LAC12CE021_XQ01     float64\n",
       "10LAC13CE021_XQ01     float64\n",
       "10LAC14CE021_XQ01     float64\n",
       "10LAC15CE021_XQ01     float64\n",
       "10LAC11CS001A_XQ01    float64\n",
       "10LAC12CS001A_XQ01    float64\n",
       "10LAC13CS001A_XQ01    float64\n",
       "10LAC14CS001A_XQ01    float64\n",
       "10LAC15CS001A_XQ01    float64\n",
       "10BBA00CE010_XQ01     float64\n",
       "10BBB00CE010_XQ01     float64\n",
       "10BBC00CE010_XQ01     float64\n",
       "10BBD00CE010_XQ01     float64\n",
       "10MKA10CE912_XQ01     float64\n",
       "10JKS00FU901_XQ01     float64\n",
       "dtype: object"
      ]
     },
     "execution_count": 3,
     "metadata": {},
     "output_type": "execute_result"
    }
   ],
   "source": [
    "# df.head()\n",
    "df.dtypes\n"
   ]
  },
  {
   "cell_type": "code",
   "execution_count": 4,
   "metadata": {},
   "outputs": [
    {
     "name": "stdout",
     "output_type": "stream",
     "text": [
      "False\n",
      "False\n"
     ]
    }
   ],
   "source": [
    "print(df.isnull().values.any())\n",
    "df.fillna(0)\n",
    "print(df.isnull().values.any())\n"
   ]
  },
  {
   "cell_type": "code",
   "execution_count": 5,
   "metadata": {},
   "outputs": [
    {
     "data": {
      "text/html": [
       "<div>\n",
       "<style scoped>\n",
       "    .dataframe tbody tr th:only-of-type {\n",
       "        vertical-align: middle;\n",
       "    }\n",
       "\n",
       "    .dataframe tbody tr th {\n",
       "        vertical-align: top;\n",
       "    }\n",
       "\n",
       "    .dataframe thead th {\n",
       "        text-align: right;\n",
       "    }\n",
       "</style>\n",
       "<table border=\"1\" class=\"dataframe\">\n",
       "  <thead>\n",
       "    <tr style=\"text-align: right;\">\n",
       "      <th></th>\n",
       "      <th>Время</th>\n",
       "      <th>10LAB11CP002_XQ01</th>\n",
       "      <th>10LAB12CP002_XQ01</th>\n",
       "      <th>10LAB13CP002_XQ01</th>\n",
       "      <th>10LAB14CP002_XQ01</th>\n",
       "      <th>10LAB15CP002_XQ01</th>\n",
       "      <th>10LAB11CP003_XQ01</th>\n",
       "      <th>10LAB12CP003_XQ01</th>\n",
       "      <th>10LAB13CP003_XQ01</th>\n",
       "      <th>10LAB14CP003_XQ01</th>\n",
       "      <th>...</th>\n",
       "      <th>10LAC12CS001A_XQ01</th>\n",
       "      <th>10LAC13CS001A_XQ01</th>\n",
       "      <th>10LAC14CS001A_XQ01</th>\n",
       "      <th>10LAC15CS001A_XQ01</th>\n",
       "      <th>10BBA00CE010_XQ01</th>\n",
       "      <th>10BBB00CE010_XQ01</th>\n",
       "      <th>10BBC00CE010_XQ01</th>\n",
       "      <th>10BBD00CE010_XQ01</th>\n",
       "      <th>10MKA10CE912_XQ01</th>\n",
       "      <th>10JKS00FU901_XQ01</th>\n",
       "    </tr>\n",
       "  </thead>\n",
       "  <tbody>\n",
       "    <tr>\n",
       "      <th>3</th>\n",
       "      <td>NaN</td>\n",
       "      <td>NaN</td>\n",
       "      <td>NaN</td>\n",
       "      <td>NaN</td>\n",
       "      <td>NaN</td>\n",
       "      <td>NaN</td>\n",
       "      <td>NaN</td>\n",
       "      <td>NaN</td>\n",
       "      <td>NaN</td>\n",
       "      <td>NaN</td>\n",
       "      <td>...</td>\n",
       "      <td>NaN</td>\n",
       "      <td>NaN</td>\n",
       "      <td>NaN</td>\n",
       "      <td>NaN</td>\n",
       "      <td>NaN</td>\n",
       "      <td>NaN</td>\n",
       "      <td>NaN</td>\n",
       "      <td>NaN</td>\n",
       "      <td>NaN</td>\n",
       "      <td>NaN</td>\n",
       "    </tr>\n",
       "    <tr>\n",
       "      <th>4</th>\n",
       "      <td>NaN</td>\n",
       "      <td>NaN</td>\n",
       "      <td>NaN</td>\n",
       "      <td>NaN</td>\n",
       "      <td>NaN</td>\n",
       "      <td>NaN</td>\n",
       "      <td>NaN</td>\n",
       "      <td>NaN</td>\n",
       "      <td>NaN</td>\n",
       "      <td>NaN</td>\n",
       "      <td>...</td>\n",
       "      <td>NaN</td>\n",
       "      <td>NaN</td>\n",
       "      <td>NaN</td>\n",
       "      <td>NaN</td>\n",
       "      <td>NaN</td>\n",
       "      <td>NaN</td>\n",
       "      <td>NaN</td>\n",
       "      <td>NaN</td>\n",
       "      <td>NaN</td>\n",
       "      <td>NaN</td>\n",
       "    </tr>\n",
       "    <tr>\n",
       "      <th>5</th>\n",
       "      <td>NaN</td>\n",
       "      <td>NaN</td>\n",
       "      <td>NaN</td>\n",
       "      <td>NaN</td>\n",
       "      <td>NaN</td>\n",
       "      <td>NaN</td>\n",
       "      <td>NaN</td>\n",
       "      <td>NaN</td>\n",
       "      <td>NaN</td>\n",
       "      <td>NaN</td>\n",
       "      <td>...</td>\n",
       "      <td>NaN</td>\n",
       "      <td>NaN</td>\n",
       "      <td>NaN</td>\n",
       "      <td>NaN</td>\n",
       "      <td>NaN</td>\n",
       "      <td>NaN</td>\n",
       "      <td>NaN</td>\n",
       "      <td>NaN</td>\n",
       "      <td>NaN</td>\n",
       "      <td>NaN</td>\n",
       "    </tr>\n",
       "    <tr>\n",
       "      <th>6</th>\n",
       "      <td>NaN</td>\n",
       "      <td>NaN</td>\n",
       "      <td>NaN</td>\n",
       "      <td>NaN</td>\n",
       "      <td>NaN</td>\n",
       "      <td>NaN</td>\n",
       "      <td>NaN</td>\n",
       "      <td>NaN</td>\n",
       "      <td>NaN</td>\n",
       "      <td>NaN</td>\n",
       "      <td>...</td>\n",
       "      <td>NaN</td>\n",
       "      <td>NaN</td>\n",
       "      <td>NaN</td>\n",
       "      <td>NaN</td>\n",
       "      <td>NaN</td>\n",
       "      <td>NaN</td>\n",
       "      <td>NaN</td>\n",
       "      <td>NaN</td>\n",
       "      <td>NaN</td>\n",
       "      <td>NaN</td>\n",
       "    </tr>\n",
       "    <tr>\n",
       "      <th>7</th>\n",
       "      <td>NaN</td>\n",
       "      <td>NaN</td>\n",
       "      <td>NaN</td>\n",
       "      <td>NaN</td>\n",
       "      <td>NaN</td>\n",
       "      <td>NaN</td>\n",
       "      <td>NaN</td>\n",
       "      <td>NaN</td>\n",
       "      <td>NaN</td>\n",
       "      <td>NaN</td>\n",
       "      <td>...</td>\n",
       "      <td>NaN</td>\n",
       "      <td>NaN</td>\n",
       "      <td>NaN</td>\n",
       "      <td>NaN</td>\n",
       "      <td>NaN</td>\n",
       "      <td>NaN</td>\n",
       "      <td>NaN</td>\n",
       "      <td>NaN</td>\n",
       "      <td>NaN</td>\n",
       "      <td>NaN</td>\n",
       "    </tr>\n",
       "    <tr>\n",
       "      <th>...</th>\n",
       "      <td>...</td>\n",
       "      <td>...</td>\n",
       "      <td>...</td>\n",
       "      <td>...</td>\n",
       "      <td>...</td>\n",
       "      <td>...</td>\n",
       "      <td>...</td>\n",
       "      <td>...</td>\n",
       "      <td>...</td>\n",
       "      <td>...</td>\n",
       "      <td>...</td>\n",
       "      <td>...</td>\n",
       "      <td>...</td>\n",
       "      <td>...</td>\n",
       "      <td>...</td>\n",
       "      <td>...</td>\n",
       "      <td>...</td>\n",
       "      <td>...</td>\n",
       "      <td>...</td>\n",
       "      <td>...</td>\n",
       "      <td>...</td>\n",
       "    </tr>\n",
       "    <tr>\n",
       "      <th>8757</th>\n",
       "      <td>NaN</td>\n",
       "      <td>NaN</td>\n",
       "      <td>NaN</td>\n",
       "      <td>NaN</td>\n",
       "      <td>NaN</td>\n",
       "      <td>NaN</td>\n",
       "      <td>NaN</td>\n",
       "      <td>NaN</td>\n",
       "      <td>NaN</td>\n",
       "      <td>NaN</td>\n",
       "      <td>...</td>\n",
       "      <td>NaN</td>\n",
       "      <td>NaN</td>\n",
       "      <td>NaN</td>\n",
       "      <td>NaN</td>\n",
       "      <td>NaN</td>\n",
       "      <td>NaN</td>\n",
       "      <td>NaN</td>\n",
       "      <td>NaN</td>\n",
       "      <td>NaN</td>\n",
       "      <td>NaN</td>\n",
       "    </tr>\n",
       "    <tr>\n",
       "      <th>8758</th>\n",
       "      <td>NaN</td>\n",
       "      <td>NaN</td>\n",
       "      <td>NaN</td>\n",
       "      <td>NaN</td>\n",
       "      <td>NaN</td>\n",
       "      <td>NaN</td>\n",
       "      <td>NaN</td>\n",
       "      <td>NaN</td>\n",
       "      <td>NaN</td>\n",
       "      <td>NaN</td>\n",
       "      <td>...</td>\n",
       "      <td>NaN</td>\n",
       "      <td>NaN</td>\n",
       "      <td>NaN</td>\n",
       "      <td>NaN</td>\n",
       "      <td>NaN</td>\n",
       "      <td>NaN</td>\n",
       "      <td>NaN</td>\n",
       "      <td>NaN</td>\n",
       "      <td>NaN</td>\n",
       "      <td>NaN</td>\n",
       "    </tr>\n",
       "    <tr>\n",
       "      <th>8759</th>\n",
       "      <td>NaN</td>\n",
       "      <td>NaN</td>\n",
       "      <td>NaN</td>\n",
       "      <td>NaN</td>\n",
       "      <td>NaN</td>\n",
       "      <td>NaN</td>\n",
       "      <td>NaN</td>\n",
       "      <td>NaN</td>\n",
       "      <td>NaN</td>\n",
       "      <td>NaN</td>\n",
       "      <td>...</td>\n",
       "      <td>NaN</td>\n",
       "      <td>NaN</td>\n",
       "      <td>NaN</td>\n",
       "      <td>NaN</td>\n",
       "      <td>NaN</td>\n",
       "      <td>NaN</td>\n",
       "      <td>NaN</td>\n",
       "      <td>NaN</td>\n",
       "      <td>NaN</td>\n",
       "      <td>NaN</td>\n",
       "    </tr>\n",
       "    <tr>\n",
       "      <th>8760</th>\n",
       "      <td>NaN</td>\n",
       "      <td>NaN</td>\n",
       "      <td>NaN</td>\n",
       "      <td>NaN</td>\n",
       "      <td>NaN</td>\n",
       "      <td>NaN</td>\n",
       "      <td>NaN</td>\n",
       "      <td>NaN</td>\n",
       "      <td>NaN</td>\n",
       "      <td>NaN</td>\n",
       "      <td>...</td>\n",
       "      <td>NaN</td>\n",
       "      <td>NaN</td>\n",
       "      <td>NaN</td>\n",
       "      <td>NaN</td>\n",
       "      <td>NaN</td>\n",
       "      <td>NaN</td>\n",
       "      <td>NaN</td>\n",
       "      <td>NaN</td>\n",
       "      <td>NaN</td>\n",
       "      <td>NaN</td>\n",
       "    </tr>\n",
       "    <tr>\n",
       "      <th>8761</th>\n",
       "      <td>NaN</td>\n",
       "      <td>NaN</td>\n",
       "      <td>NaN</td>\n",
       "      <td>NaN</td>\n",
       "      <td>NaN</td>\n",
       "      <td>NaN</td>\n",
       "      <td>NaN</td>\n",
       "      <td>NaN</td>\n",
       "      <td>NaN</td>\n",
       "      <td>NaN</td>\n",
       "      <td>...</td>\n",
       "      <td>NaN</td>\n",
       "      <td>NaN</td>\n",
       "      <td>NaN</td>\n",
       "      <td>NaN</td>\n",
       "      <td>NaN</td>\n",
       "      <td>NaN</td>\n",
       "      <td>NaN</td>\n",
       "      <td>NaN</td>\n",
       "      <td>NaN</td>\n",
       "      <td>NaN</td>\n",
       "    </tr>\n",
       "  </tbody>\n",
       "</table>\n",
       "<p>8759 rows × 33 columns</p>\n",
       "</div>"
      ],
      "text/plain": [
       "     Время  10LAB11CP002_XQ01  10LAB12CP002_XQ01  10LAB13CP002_XQ01  \\\n",
       "3      NaN                NaN                NaN                NaN   \n",
       "4      NaN                NaN                NaN                NaN   \n",
       "5      NaN                NaN                NaN                NaN   \n",
       "6      NaN                NaN                NaN                NaN   \n",
       "7      NaN                NaN                NaN                NaN   \n",
       "...    ...                ...                ...                ...   \n",
       "8757   NaN                NaN                NaN                NaN   \n",
       "8758   NaN                NaN                NaN                NaN   \n",
       "8759   NaN                NaN                NaN                NaN   \n",
       "8760   NaN                NaN                NaN                NaN   \n",
       "8761   NaN                NaN                NaN                NaN   \n",
       "\n",
       "      10LAB14CP002_XQ01  10LAB15CP002_XQ01  10LAB11CP003_XQ01  \\\n",
       "3                   NaN                NaN                NaN   \n",
       "4                   NaN                NaN                NaN   \n",
       "5                   NaN                NaN                NaN   \n",
       "6                   NaN                NaN                NaN   \n",
       "7                   NaN                NaN                NaN   \n",
       "...                 ...                ...                ...   \n",
       "8757                NaN                NaN                NaN   \n",
       "8758                NaN                NaN                NaN   \n",
       "8759                NaN                NaN                NaN   \n",
       "8760                NaN                NaN                NaN   \n",
       "8761                NaN                NaN                NaN   \n",
       "\n",
       "      10LAB12CP003_XQ01  10LAB13CP003_XQ01  10LAB14CP003_XQ01  ...  \\\n",
       "3                   NaN                NaN                NaN  ...   \n",
       "4                   NaN                NaN                NaN  ...   \n",
       "5                   NaN                NaN                NaN  ...   \n",
       "6                   NaN                NaN                NaN  ...   \n",
       "7                   NaN                NaN                NaN  ...   \n",
       "...                 ...                ...                ...  ...   \n",
       "8757                NaN                NaN                NaN  ...   \n",
       "8758                NaN                NaN                NaN  ...   \n",
       "8759                NaN                NaN                NaN  ...   \n",
       "8760                NaN                NaN                NaN  ...   \n",
       "8761                NaN                NaN                NaN  ...   \n",
       "\n",
       "      10LAC12CS001A_XQ01  10LAC13CS001A_XQ01  10LAC14CS001A_XQ01  \\\n",
       "3                    NaN                 NaN                 NaN   \n",
       "4                    NaN                 NaN                 NaN   \n",
       "5                    NaN                 NaN                 NaN   \n",
       "6                    NaN                 NaN                 NaN   \n",
       "7                    NaN                 NaN                 NaN   \n",
       "...                  ...                 ...                 ...   \n",
       "8757                 NaN                 NaN                 NaN   \n",
       "8758                 NaN                 NaN                 NaN   \n",
       "8759                 NaN                 NaN                 NaN   \n",
       "8760                 NaN                 NaN                 NaN   \n",
       "8761                 NaN                 NaN                 NaN   \n",
       "\n",
       "      10LAC15CS001A_XQ01  10BBA00CE010_XQ01  10BBB00CE010_XQ01  \\\n",
       "3                    NaN                NaN                NaN   \n",
       "4                    NaN                NaN                NaN   \n",
       "5                    NaN                NaN                NaN   \n",
       "6                    NaN                NaN                NaN   \n",
       "7                    NaN                NaN                NaN   \n",
       "...                  ...                ...                ...   \n",
       "8757                 NaN                NaN                NaN   \n",
       "8758                 NaN                NaN                NaN   \n",
       "8759                 NaN                NaN                NaN   \n",
       "8760                 NaN                NaN                NaN   \n",
       "8761                 NaN                NaN                NaN   \n",
       "\n",
       "      10BBC00CE010_XQ01  10BBD00CE010_XQ01  10MKA10CE912_XQ01  \\\n",
       "3                   NaN                NaN                NaN   \n",
       "4                   NaN                NaN                NaN   \n",
       "5                   NaN                NaN                NaN   \n",
       "6                   NaN                NaN                NaN   \n",
       "7                   NaN                NaN                NaN   \n",
       "...                 ...                ...                ...   \n",
       "8757                NaN                NaN                NaN   \n",
       "8758                NaN                NaN                NaN   \n",
       "8759                NaN                NaN                NaN   \n",
       "8760                NaN                NaN                NaN   \n",
       "8761                NaN                NaN                NaN   \n",
       "\n",
       "      10JKS00FU901_XQ01  \n",
       "3                   NaN  \n",
       "4                   NaN  \n",
       "5                   NaN  \n",
       "6                   NaN  \n",
       "7                   NaN  \n",
       "...                 ...  \n",
       "8757                NaN  \n",
       "8758                NaN  \n",
       "8759                NaN  \n",
       "8760                NaN  \n",
       "8761                NaN  \n",
       "\n",
       "[8759 rows x 33 columns]"
      ]
     },
     "execution_count": 5,
     "metadata": {},
     "output_type": "execute_result"
    }
   ],
   "source": [
    "df[df.isnull()]\n",
    "# df\n"
   ]
  },
  {
   "cell_type": "code",
   "execution_count": 6,
   "metadata": {},
   "outputs": [
    {
     "data": {
      "text/plain": [
       "3   -0.032401\n",
       "4   -0.032401\n",
       "5   -0.032401\n",
       "6   -0.032401\n",
       "7   -0.032401\n",
       "Name: 10LAB11CP002_XQ01, dtype: float64"
      ]
     },
     "execution_count": 6,
     "metadata": {},
     "output_type": "execute_result"
    }
   ],
   "source": [
    "import matplotlib.pyplot as plt\n",
    "import pandas as pd\n",
    "\n",
    "\n",
    "\n",
    "# a scatter plot comparing num_children and num_pets\n",
    "# data.iloc[:5,:].reset_index().plot(kind='line',x='index',y='10LAB11CP002_XQ01',color='red', ax=ax)\n",
    "\n",
    "\n",
    "x, y = df['10LAB11CP002_XQ01'].min(), df['10LAB11CP002_XQ01'].max()\n",
    "# df['SIZE'] = (df.TOTAL - x) / (y - x) * (b - a) + a\n",
    "\n",
    "\n",
    "plot_df = pd.to_numeric(df['10LAB11CP002_XQ01'], errors='coerce')\n",
    "\n",
    "df1 = (plot_df - plot_df.mean())/plot_df.std()\n",
    "\n",
    "df1.head()\n",
    "\n",
    "\n"
   ]
  },
  {
   "cell_type": "code",
   "execution_count": 7,
   "metadata": {},
   "outputs": [
    {
     "data": {
      "text/plain": [
       "[<matplotlib.lines.Line2D at 0x7fc3373eb630>]"
      ]
     },
     "execution_count": 7,
     "metadata": {},
     "output_type": "execute_result"
    },
    {
     "data": {
      "image/png": "[encoded data removed]",
      "text/plain": [
       "<Figure size 432x288 with 1 Axes>"
      ]
     },
     "metadata": {
      "needs_background": "light"
     },
     "output_type": "display_data"
    }
   ],
   "source": [
    "ax = plt.gca()\n",
    "\n",
    "plt.plot(df.reset_index()['index'], df['10LAB11CP002_XQ01'])\n"
   ]
  },
  {
   "cell_type": "code",
   "execution_count": 8,
   "metadata": {},
   "outputs": [
    {
     "data": {
      "text/plain": [
       "[<matplotlib.lines.Line2D at 0x7fc3795156a0>]"
      ]
     },
     "execution_count": 8,
     "metadata": {},
     "output_type": "execute_result"
    },
    {
     "data": {
      "image/png": "[encoded data removed]",
      "text/plain": [
       "<Figure size 432x288 with 1 Axes>"
      ]
     },
     "metadata": {
      "needs_background": "light"
     },
     "output_type": "display_data"
    }
   ],
   "source": [
    "df1.head()\n",
    "\n",
    "plt.plot(df.reset_index()['index'], df1)\n"
   ]
  },
  {
   "cell_type": "code",
   "execution_count": 9,
   "metadata": {},
   "outputs": [
    {
     "data": {
      "text/plain": [
       "3   -0.453021\n",
       "4   -0.458913\n",
       "5   -0.469224\n",
       "6   -0.811712\n",
       "7   -0.822760\n",
       "Name: 10JKS00FU901_XQ01, dtype: float64"
      ]
     },
     "execution_count": 9,
     "metadata": {},
     "output_type": "execute_result"
    }
   ],
   "source": [
    "plot_df2 = pd.to_numeric(df['10JKS00FU901_XQ01'], errors='coerce')\n",
    "\n",
    "df2 = (plot_df2-plot_df2.mean())/plot_df2.std()\n",
    "df2.head()"
   ]
  },
  {
   "cell_type": "code",
   "execution_count": 10,
   "metadata": {},
   "outputs": [
    {
     "data": {
      "text/plain": [
       "[<matplotlib.lines.Line2D at 0x7fc33c57ad68>]"
      ]
     },
     "execution_count": 10,
     "metadata": {},
     "output_type": "execute_result"
    },
    {
     "data": {
      "image/png": "[encoded data removed]",
      "text/plain": [
       "<Figure size 432x288 with 1 Axes>"
      ]
     },
     "metadata": {
      "needs_background": "light"
     },
     "output_type": "display_data"
    }
   ],
   "source": [
    "plt.plot(df.reset_index()['index'], df2)"
   ]
  },
  {
   "cell_type": "code",
   "execution_count": 11,
   "metadata": {},
   "outputs": [
    {
     "data": {
      "text/plain": [
       "array([[1.        , 0.79351791],\n",
       "       [0.79351791, 1.        ]])"
      ]
     },
     "execution_count": 11,
     "metadata": {},
     "output_type": "execute_result"
    }
   ],
   "source": [
    "# v1 = pd.to_numeric(df['10JKS00FU901_XQ01'], errors='coerce')[:3000]\n",
    "# v2 = pd.to_numeric(df['10LAB11CP002_XQ01'], errors='coerce')[:3000]\n",
    "\n",
    "\n",
    "\n",
    "# np.cov(v1.to_numpy().T,v2.to_numpy().T, rowvar=0)\n",
    "\n",
    "np.cov(df1.to_numpy()[:].T,df2.to_numpy()[:].T, rowvar=0)\n",
    "\n",
    "\n"
   ]
  },
  {
   "cell_type": "code",
   "execution_count": 12,
   "metadata": {},
   "outputs": [
    {
     "data": {
      "text/plain": [
       "array([[1.        , 0.79351791],\n",
       "       [0.79351791, 1.        ]])"
      ]
     },
     "execution_count": 12,
     "metadata": {},
     "output_type": "execute_result"
    }
   ],
   "source": [
    "np.corrcoef(df1.to_numpy()[:], df2.to_numpy()[:])"
   ]
  },
  {
   "cell_type": "code",
   "execution_count": 13,
   "metadata": {},
   "outputs": [
    {
     "data": {
      "text/plain": [
       "array([6949.62987013])"
      ]
     },
     "execution_count": 13,
     "metadata": {},
     "output_type": "execute_result"
    }
   ],
   "source": [
    "np.correlate(df1,df2)"
   ]
  },
  {
   "cell_type": "code",
   "execution_count": 14,
   "metadata": {},
   "outputs": [],
   "source": [
    "filtered_df = df1[df1.isnull()]"
   ]
  },
  {
   "cell_type": "code",
   "execution_count": 15,
   "metadata": {},
   "outputs": [
    {
     "name": "stdout",
     "output_type": "stream",
     "text": [
      "Series([], Name: 10LAB11CP002_XQ01, dtype: float64)\n"
     ]
    }
   ],
   "source": [
    "print(filtered_df)"
   ]
  },
  {
   "cell_type": "code",
   "execution_count": 16,
   "metadata": {},
   "outputs": [
    {
     "name": "stdout",
     "output_type": "stream",
     "text": [
      "Series([], Name: 10JKS00FU901_XQ01, dtype: float64)\n"
     ]
    }
   ],
   "source": [
    "filtered_df = df2[df2.isnull()]\n",
    "print(filtered_df)"
   ]
  },
  {
   "cell_type": "code",
   "execution_count": 17,
   "metadata": {},
   "outputs": [
    {
     "data": {
      "text/plain": [
       "3063   -1.780989\n",
       "3064   -1.780989\n",
       "3065   -1.780989\n",
       "3066   -1.780989\n",
       "3067   -1.780989\n",
       "3068   -1.780989\n",
       "3069   -1.780989\n",
       "3070   -1.780989\n",
       "3071   -1.780989\n",
       "3072   -1.780989\n",
       "3073   -1.780989\n",
       "3074   -1.780989\n",
       "3075   -1.780989\n",
       "3076   -1.780989\n",
       "3077   -1.780989\n",
       "3078   -1.780989\n",
       "3079   -1.780989\n",
       "3080   -1.780989\n",
       "3081   -1.780989\n",
       "3082   -1.780989\n",
       "3083   -1.780989\n",
       "3084   -1.780989\n",
       "3085   -1.780989\n",
       "3086   -1.614533\n",
       "3087   -0.900832\n",
       "3088   -0.903779\n",
       "3089   -0.886102\n",
       "3090   -0.895677\n",
       "3091   -1.079073\n",
       "3092   -1.780989\n",
       "3093   -1.780989\n",
       "3094   -1.780989\n",
       "3095   -1.780989\n",
       "3096   -1.780989\n",
       "3097   -1.780989\n",
       "3098   -1.780989\n",
       "3099   -1.780989\n",
       "3100   -1.780989\n",
       "3101   -1.780989\n",
       "3102   -1.780989\n",
       "Name: 10JKS00FU901_XQ01, dtype: float64"
      ]
     },
     "execution_count": 17,
     "metadata": {},
     "output_type": "execute_result"
    }
   ],
   "source": [
    "df2[3060:3100]"
   ]
  },
  {
   "cell_type": "code",
   "execution_count": 18,
   "metadata": {},
   "outputs": [
    {
     "data": {
      "text/plain": [
       "False"
      ]
     },
     "execution_count": 18,
     "metadata": {},
     "output_type": "execute_result"
    }
   ],
   "source": [
    "df.isnull().values.any()"
   ]
  },
  {
   "cell_type": "code",
   "execution_count": 19,
   "metadata": {},
   "outputs": [
    {
     "data": {
      "text/plain": [
       "3063   -1.780989\n",
       "3064   -1.780989\n",
       "3065   -1.780989\n",
       "3066   -1.780989\n",
       "3067   -1.780989\n",
       "3068   -1.780989\n",
       "3069   -1.780989\n",
       "3070   -1.780989\n",
       "3071   -1.780989\n",
       "3072   -1.780989\n",
       "3073   -1.780989\n",
       "3074   -1.780989\n",
       "3075   -1.780989\n",
       "3076   -1.780989\n",
       "3077   -1.780989\n",
       "3078   -1.780989\n",
       "3079   -1.780989\n",
       "3080   -1.780989\n",
       "3081   -1.780989\n",
       "3082   -1.780989\n",
       "3083   -1.780989\n",
       "3084   -1.780989\n",
       "3085   -1.780989\n",
       "3086   -1.614533\n",
       "3087   -0.900832\n",
       "3088   -0.903779\n",
       "3089   -0.886102\n",
       "3090   -0.895677\n",
       "3091   -1.079073\n",
       "3092   -1.780989\n",
       "3093   -1.780989\n",
       "3094   -1.780989\n",
       "3095   -1.780989\n",
       "3096   -1.780989\n",
       "3097   -1.780989\n",
       "3098   -1.780989\n",
       "3099   -1.780989\n",
       "3100   -1.780989\n",
       "3101   -1.780989\n",
       "3102   -1.780989\n",
       "Name: 10JKS00FU901_XQ01, dtype: float64"
      ]
     },
     "execution_count": 19,
     "metadata": {},
     "output_type": "execute_result"
    }
   ],
   "source": [
    "df2[3060:3100]"
   ]
  },
  {
   "cell_type": "code",
   "execution_count": 20,
   "metadata": {},
   "outputs": [],
   "source": [
    "df2.fillna(0, inplace=True)"
   ]
  },
  {
   "cell_type": "code",
   "execution_count": 21,
   "metadata": {},
   "outputs": [
    {
     "data": {
      "text/plain": [
       "3063   -1.780989\n",
       "3064   -1.780989\n",
       "3065   -1.780989\n",
       "3066   -1.780989\n",
       "3067   -1.780989\n",
       "3068   -1.780989\n",
       "3069   -1.780989\n",
       "3070   -1.780989\n",
       "3071   -1.780989\n",
       "3072   -1.780989\n",
       "3073   -1.780989\n",
       "3074   -1.780989\n",
       "3075   -1.780989\n",
       "3076   -1.780989\n",
       "3077   -1.780989\n",
       "3078   -1.780989\n",
       "3079   -1.780989\n",
       "3080   -1.780989\n",
       "3081   -1.780989\n",
       "3082   -1.780989\n",
       "3083   -1.780989\n",
       "3084   -1.780989\n",
       "3085   -1.780989\n",
       "3086   -1.614533\n",
       "3087   -0.900832\n",
       "3088   -0.903779\n",
       "3089   -0.886102\n",
       "3090   -0.895677\n",
       "3091   -1.079073\n",
       "3092   -1.780989\n",
       "3093   -1.780989\n",
       "3094   -1.780989\n",
       "3095   -1.780989\n",
       "3096   -1.780989\n",
       "3097   -1.780989\n",
       "3098   -1.780989\n",
       "3099   -1.780989\n",
       "3100   -1.780989\n",
       "3101   -1.780989\n",
       "3102   -1.780989\n",
       "Name: 10JKS00FU901_XQ01, dtype: float64"
      ]
     },
     "execution_count": 21,
     "metadata": {},
     "output_type": "execute_result"
    }
   ],
   "source": [
    "df2[3060:3100]"
   ]
  },
  {
   "cell_type": "code",
   "execution_count": 22,
   "metadata": {},
   "outputs": [
    {
     "data": {
      "text/plain": [
       "3   -0.453021\n",
       "4   -0.458913\n",
       "5   -0.469224\n",
       "6   -0.811712\n",
       "7   -0.822760\n",
       "Name: 10JKS00FU901_XQ01, dtype: float64"
      ]
     },
     "execution_count": 22,
     "metadata": {},
     "output_type": "execute_result"
    }
   ],
   "source": [
    "df2.head()"
   ]
  },
  {
   "cell_type": "code",
   "execution_count": 23,
   "metadata": {},
   "outputs": [
    {
     "data": {
      "text/plain": [
       "3      -0.906041\n",
       "4      -0.917826\n",
       "5      -0.938449\n",
       "6      -1.623424\n",
       "7      -1.645520\n",
       "          ...   \n",
       "8757    1.172454\n",
       "8758    1.169508\n",
       "8759    1.184239\n",
       "8760    1.182765\n",
       "8761    1.185712\n",
       "Name: 10JKS00FU901_XQ01, Length: 8759, dtype: float64"
      ]
     },
     "execution_count": 23,
     "metadata": {},
     "output_type": "execute_result"
    }
   ],
   "source": [
    "df2 = df2.apply(lambda x: x*2)\n",
    "df2"
   ]
  },
  {
   "cell_type": "code",
   "execution_count": null,
   "metadata": {},
   "outputs": [],
   "source": []
  }
 ],
 "metadata": {
  "kernelspec": {
   "display_name": "Python 3.6.9 64-bit ('venv': virtualenv)",
   "language": "python",
   "name": "python36964bitvenvvirtualenv983fa8822c0b4039ad4c763888f2ef5c"
  },
  "language_info": {
   "codemirror_mode": {
    "name": "ipython",
    "version": 3
   },
   "file_extension": ".py",
   "mimetype": "text/x-python",
   "name": "python",
   "nbconvert_exporter": "python",
   "pygments_lexer": "ipython3",
   "version": "3.6.9"
  }
 },
 "nbformat": 4,
 "nbformat_minor": 4
}
